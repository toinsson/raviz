{
 "cells": [
  {
   "cell_type": "markdown",
   "metadata": {},
   "source": [
    "# Conclusion\n",
    "\n",
    "- force-based layout do not seem adapted to embed datasets with a lots of samples\n",
    "\n",
    "This has been the case for the algorithm forceAtlas2 and MNIST-70k, even though the embedding of MNIST-2k was correct. For force related layouts, there are some examples in the literature of embeddings of datasets with thousands of samples, but these are usually sparsely connected; in other words quite different than the one usually targeted by t-sne.\n",
    "\n",
    "- improving the speed of t-sne is going to be really challenging\n",
    "\n",
    "Considering the approximations proposed by Maatens, Linderman or Pezotti, it appears that t-sne is now in a pretty mature state when it comes to performance. Pezotti eventually proposed to rewrite the computation to accomodate for GPU specific capabilities and claim a performance in $\\mathcal{O}(N)$. The nearest neighbhour finding field is quite mature and showing improvments would require using evaluation methods that are commonly accepted in this field, see http://ann-benchmarks.com/. Interpolation has been proposed in the form of hierarchical embeddings.\n",
    "\n",
    "- research communities are quite fragmented\n",
    "\n",
    "In the literature review, we have identify four research communities. Maatens/Pezotti/Lindermans, MDS/Force, Bio, Chalmers. Each of them has a very specific way of expressing themselves.\n"
   ]
  },
  {
   "cell_type": "code",
   "execution_count": null,
   "metadata": {},
   "outputs": [],
   "source": []
  }
 ],
 "metadata": {
  "kernelspec": {
   "display_name": "Python 3",
   "language": "python",
   "name": "python3"
  },
  "language_info": {
   "codemirror_mode": {
    "name": "ipython",
    "version": 3
   },
   "file_extension": ".py",
   "mimetype": "text/x-python",
   "name": "python",
   "nbconvert_exporter": "python",
   "pygments_lexer": "ipython3",
   "version": "3.7.3"
  }
 },
 "nbformat": 4,
 "nbformat_minor": 2
}

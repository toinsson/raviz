{
 "cells": [
  {
   "cell_type": "code",
   "execution_count": 1,
   "metadata": {},
   "outputs": [],
   "source": [
    "%matplotlib inline"
   ]
  },
  {
   "cell_type": "code",
   "execution_count": 2,
   "metadata": {},
   "outputs": [],
   "source": [
    "import matplotlib.pyplot as plt\n",
    "import numpy as np"
   ]
  },
  {
   "cell_type": "markdown",
   "metadata": {},
   "source": [
    "# load data"
   ]
  },
  {
   "cell_type": "code",
   "execution_count": 3,
   "metadata": {},
   "outputs": [],
   "source": [
    "import sys\n",
    "sys.path.insert(0, \"../research/fashion-mnist/\")"
   ]
  },
  {
   "cell_type": "code",
   "execution_count": 4,
   "metadata": {},
   "outputs": [],
   "source": [
    "from utils import mnist_reader\n",
    "X_train, y_train = mnist_reader.load_mnist('../research/fashion-mnist/data/fashion', kind='train')\n",
    "# X_test, y_test = mnist_reader.load_mnist('data/fashion', kind='t10k')"
   ]
  },
  {
   "cell_type": "code",
   "execution_count": 5,
   "metadata": {},
   "outputs": [
    {
     "data": {
      "text/plain": [
       "(60000, 784)"
      ]
     },
     "execution_count": 5,
     "metadata": {},
     "output_type": "execute_result"
    }
   ],
   "source": [
    "X_train.shape"
   ]
  },
  {
   "cell_type": "markdown",
   "metadata": {},
   "source": [
    "# tsne"
   ]
  },
  {
   "cell_type": "code",
   "execution_count": 6,
   "metadata": {},
   "outputs": [],
   "source": [
    "from openTSNE import TSNE, TSNEEmbedding, affinity, initialization\n",
    "from openTSNE import initialization\n",
    "from openTSNE.callbacks import ErrorLogger"
   ]
  },
  {
   "cell_type": "code",
   "execution_count": 7,
   "metadata": {},
   "outputs": [
    {
     "name": "stderr",
     "output_type": "stream",
     "text": [
      "/home/antoine/anaconda3/envs/raviz_hybrid/lib/python3.7/site-packages/numba/compiler.py:602: NumbaPerformanceWarning: \n",
      "The keyword argument 'parallel=True' was specified but no transformation for parallel execution was possible.\n",
      "\n",
      "To find out why, try turning on parallel diagnostics, see http://numba.pydata.org/numba-doc/latest/user/parallel.html#diagnostics for help.\n",
      "\n",
      "File \"../../anaconda3/envs/raviz_hybrid/lib/python3.7/site-packages/pynndescent/rp_trees.py\", line 133:\n",
      "@numba.njit(fastmath=True, nogil=True, parallel=True)\n",
      "def euclidean_random_projection_split(data, indices, rng_state):\n",
      "^\n",
      "\n",
      "  self.func_ir.loc))\n",
      "/home/antoine/anaconda3/envs/raviz_hybrid/lib/python3.7/site-packages/numba/compiler.py:602: NumbaPerformanceWarning: \n",
      "The keyword argument 'parallel=True' was specified but no transformation for parallel execution was possible.\n",
      "\n",
      "To find out why, try turning on parallel diagnostics, see http://numba.pydata.org/numba-doc/latest/user/parallel.html#diagnostics for help.\n",
      "\n",
      "File \"../../anaconda3/envs/raviz_hybrid/lib/python3.7/site-packages/pynndescent/utils.py\", line 79:\n",
      "@numba.njit(parallel=True)\n",
      "def rejection_sample(n_samples, pool_size, rng_state):\n",
      "^\n",
      "\n",
      "  self.func_ir.loc))\n",
      "/home/antoine/anaconda3/envs/raviz_hybrid/lib/python3.7/site-packages/numba/compiler.py:602: NumbaPerformanceWarning: \n",
      "The keyword argument 'parallel=True' was specified but no transformation for parallel execution was possible.\n",
      "\n",
      "To find out why, try turning on parallel diagnostics, see http://numba.pydata.org/numba-doc/latest/user/parallel.html#diagnostics for help.\n",
      "\n",
      "File \"../../anaconda3/envs/raviz_hybrid/lib/python3.7/site-packages/pynndescent/pynndescent_.py\", line 38:\n",
      "    @numba.njit(parallel=True, fastmath=True)\n",
      "    def init_from_random(n_neighbors, data, query_points, heap, rng_state):\n",
      "    ^\n",
      "\n",
      "  self.func_ir.loc))\n",
      "/home/antoine/anaconda3/envs/raviz_hybrid/lib/python3.7/site-packages/numba/compiler.py:602: NumbaPerformanceWarning: \n",
      "The keyword argument 'parallel=True' was specified but no transformation for parallel execution was possible.\n",
      "\n",
      "To find out why, try turning on parallel diagnostics, see http://numba.pydata.org/numba-doc/latest/user/parallel.html#diagnostics for help.\n",
      "\n",
      "File \"../../anaconda3/envs/raviz_hybrid/lib/python3.7/site-packages/pynndescent/pynndescent_.py\", line 49:\n",
      "    @numba.njit(parallel=True, fastmath=True)\n",
      "    def init_from_tree(tree, data, query_points, heap, rng_state):\n",
      "    ^\n",
      "\n",
      "  self.func_ir.loc))\n"
     ]
    },
    {
     "name": "stdout",
     "output_type": "stream",
     "text": [
      "CPU times: user 3min 15s, sys: 3.74 s, total: 3min 19s\n",
      "Wall time: 1min 6s\n"
     ]
    }
   ],
   "source": [
    "%time aff = affinity.PerplexityBasedNN(X_train, n_jobs=8)"
   ]
  },
  {
   "cell_type": "code",
   "execution_count": 8,
   "metadata": {},
   "outputs": [],
   "source": [
    "P = aff.P"
   ]
  },
  {
   "cell_type": "code",
   "execution_count": 9,
   "metadata": {},
   "outputs": [],
   "source": [
    "import scipy.sparse as sp"
   ]
  },
  {
   "cell_type": "code",
   "execution_count": 10,
   "metadata": {},
   "outputs": [
    {
     "data": {
      "text/plain": [
       "<60000x60000 sparse matrix of type '<class 'numpy.float64'>'\n",
       "\twith 8417446 stored elements in Compressed Sparse Row format>"
      ]
     },
     "execution_count": 10,
     "metadata": {},
     "output_type": "execute_result"
    }
   ],
   "source": [
    "sp.diags(np.asarray(1 / P.sum(axis=1)).ravel()) @ P"
   ]
  },
  {
   "cell_type": "code",
   "execution_count": 14,
   "metadata": {},
   "outputs": [
    {
     "name": "stdout",
     "output_type": "stream",
     "text": [
      "CPU times: user 4.67 s, sys: 360 ms, total: 5.03 s\n",
      "Wall time: 1.56 s\n"
     ]
    }
   ],
   "source": [
    "%time init = initialization.pca(X_train, random_state=42)"
   ]
  },
  {
   "cell_type": "code",
   "execution_count": null,
   "metadata": {},
   "outputs": [],
   "source": [
    "embedding = TSNEEmbedding(\n",
    "    init,\n",
    "    aff,\n",
    "    negative_gradient_method=\"fft\",\n",
    "    n_jobs=8,\n",
    ")"
   ]
  },
  {
   "cell_type": "code",
   "execution_count": null,
   "metadata": {},
   "outputs": [],
   "source": [
    "%%time \n",
    "embedding1 = embedding.optimize(n_iter=250, exaggeration=12, momentum=0.5)\n",
    "embedding2 = embedding1.optimize(n_iter=750, exaggeration=1, momentum=0.8)"
   ]
  },
  {
   "cell_type": "code",
   "execution_count": null,
   "metadata": {},
   "outputs": [],
   "source": [
    "fig, ax = plt.subplots()\n",
    "ax.scatter(embedding2[:,0], embedding2[:,1], c=y_train, rasterized=True)"
   ]
  },
  {
   "cell_type": "markdown",
   "metadata": {},
   "source": [
    "# point-wise normalisation"
   ]
  },
  {
   "cell_type": "code",
   "execution_count": 11,
   "metadata": {},
   "outputs": [],
   "source": [
    "class PointWiseNN(affinity.Affinities):\n",
    "    def __init__(\n",
    "        self,\n",
    "        data,\n",
    "        perplexity=30,\n",
    "        method=\"approx\",\n",
    "        metric=\"euclidean\",\n",
    "        metric_params=None,\n",
    "        symmetrize=True,\n",
    "        n_jobs=1,\n",
    "        random_state=None,\n",
    "    ):\n",
    "        self.n_samples = data.shape[0]\n",
    "        self.perplexity = perplexity\n",
    "\n",
    "        k_neighbors = min(self.n_samples - 1, int(3 * self.perplexity))\n",
    "        self.knn_index, self.__neighbors, self.__distances = affinity.build_knn_index(\n",
    "            data, method, k_neighbors, metric, metric_params, n_jobs, random_state\n",
    "        )\n",
    "\n",
    "        self.P = affinity.joint_probabilities_nn(\n",
    "            self.__neighbors,\n",
    "            self.__distances,\n",
    "            [self.perplexity],\n",
    "            symmetrize=symmetrize,\n",
    "            n_jobs=n_jobs,\n",
    "            normalization=\"point-wise\",\n",
    "\n",
    "        )\n",
    "\n",
    "        self.n_jobs = n_jobs"
   ]
  },
  {
   "cell_type": "code",
   "execution_count": 12,
   "metadata": {},
   "outputs": [
    {
     "name": "stderr",
     "output_type": "stream",
     "text": [
      "/home/antoine/anaconda3/envs/raviz_hybrid/lib/python3.7/site-packages/numba/compiler.py:602: NumbaPerformanceWarning: \n",
      "The keyword argument 'parallel=True' was specified but no transformation for parallel execution was possible.\n",
      "\n",
      "To find out why, try turning on parallel diagnostics, see http://numba.pydata.org/numba-doc/latest/user/parallel.html#diagnostics for help.\n",
      "\n",
      "File \"../../anaconda3/envs/raviz_hybrid/lib/python3.7/site-packages/pynndescent/pynndescent_.py\", line 38:\n",
      "    @numba.njit(parallel=True, fastmath=True)\n",
      "    def init_from_random(n_neighbors, data, query_points, heap, rng_state):\n",
      "    ^\n",
      "\n",
      "  self.func_ir.loc))\n",
      "/home/antoine/anaconda3/envs/raviz_hybrid/lib/python3.7/site-packages/numba/compiler.py:602: NumbaPerformanceWarning: \n",
      "The keyword argument 'parallel=True' was specified but no transformation for parallel execution was possible.\n",
      "\n",
      "To find out why, try turning on parallel diagnostics, see http://numba.pydata.org/numba-doc/latest/user/parallel.html#diagnostics for help.\n",
      "\n",
      "File \"../../anaconda3/envs/raviz_hybrid/lib/python3.7/site-packages/pynndescent/pynndescent_.py\", line 49:\n",
      "    @numba.njit(parallel=True, fastmath=True)\n",
      "    def init_from_tree(tree, data, query_points, heap, rng_state):\n",
      "    ^\n",
      "\n",
      "  self.func_ir.loc))\n"
     ]
    },
    {
     "name": "stdout",
     "output_type": "stream",
     "text": [
      "CPU times: user 3min 15s, sys: 3.42 s, total: 3min 18s\n",
      "Wall time: 1min 4s\n"
     ]
    }
   ],
   "source": [
    "%time aff_pointwise = PointWiseNN(X_train, n_jobs=8)"
   ]
  },
  {
   "cell_type": "code",
   "execution_count": 15,
   "metadata": {},
   "outputs": [],
   "source": [
    "embedding_ = TSNEEmbedding(\n",
    "    init,\n",
    "    aff_pointwise,\n",
    "    negative_gradient_method=\"fft\",\n",
    "    n_jobs=8,\n",
    ")"
   ]
  },
  {
   "cell_type": "code",
   "execution_count": null,
   "metadata": {},
   "outputs": [
    {
     "ename": "MemoryError",
     "evalue": "",
     "output_type": "error",
     "traceback": [
      "\u001b[0;31m---------------------------------------------------------------------------\u001b[0m",
      "\u001b[0;31mMemoryError\u001b[0m                               Traceback (most recent call last)",
      "\u001b[0;31mMemoryError\u001b[0m: "
     ]
    },
    {
     "name": "stderr",
     "output_type": "stream",
     "text": [
      "Exception ignored in: 'openTSNE._tsne.estimate_negative_gradient_fft_2d'\n",
      "MemoryError\n"
     ]
    },
    {
     "ename": "MemoryError",
     "evalue": "",
     "output_type": "error",
     "traceback": [
      "\u001b[0;31m---------------------------------------------------------------------------\u001b[0m",
      "\u001b[0;31mMemoryError\u001b[0m                               Traceback (most recent call last)",
      "\u001b[0;32mopenTSNE/_tsne.pyx\u001b[0m in \u001b[0;36mopenTSNE._tsne.compute_kernel_tilde_2d\u001b[0;34m()\u001b[0m\n",
      "\u001b[0;31mMemoryError\u001b[0m: "
     ]
    },
    {
     "name": "stderr",
     "output_type": "stream",
     "text": [
      "Exception ignored in: 'openTSNE._tsne.estimate_negative_gradient_fft_2d'\n",
      "Traceback (most recent call last):\n",
      "  File \"openTSNE/_tsne.pyx\", line 575, in openTSNE._tsne.compute_kernel_tilde_2d\n",
      "MemoryError\n"
     ]
    },
    {
     "ename": "MemoryError",
     "evalue": "",
     "output_type": "error",
     "traceback": [
      "\u001b[0;31m---------------------------------------------------------------------------\u001b[0m",
      "\u001b[0;31mMemoryError\u001b[0m                               Traceback (most recent call last)",
      "\u001b[0;32mopenTSNE/_tsne.pyx\u001b[0m in \u001b[0;36mopenTSNE._tsne.compute_kernel_tilde_2d\u001b[0;34m()\u001b[0m\n",
      "\u001b[0;31mMemoryError\u001b[0m: "
     ]
    },
    {
     "name": "stderr",
     "output_type": "stream",
     "text": [
      "Exception ignored in: 'openTSNE._tsne.estimate_negative_gradient_fft_2d'\n",
      "Traceback (most recent call last):\n",
      "  File \"openTSNE/_tsne.pyx\", line 575, in openTSNE._tsne.compute_kernel_tilde_2d\n",
      "MemoryError\n"
     ]
    },
    {
     "ename": "MemoryError",
     "evalue": "",
     "output_type": "error",
     "traceback": [
      "\u001b[0;31m---------------------------------------------------------------------------\u001b[0m",
      "\u001b[0;31mMemoryError\u001b[0m                               Traceback (most recent call last)",
      "\u001b[0;32mopenTSNE/_tsne.pyx\u001b[0m in \u001b[0;36mopenTSNE._tsne.compute_kernel_tilde_2d\u001b[0;34m()\u001b[0m\n",
      "\u001b[0;31mMemoryError\u001b[0m: "
     ]
    },
    {
     "name": "stderr",
     "output_type": "stream",
     "text": [
      "Exception ignored in: 'openTSNE._tsne.estimate_negative_gradient_fft_2d'\n",
      "Traceback (most recent call last):\n",
      "  File \"openTSNE/_tsne.pyx\", line 575, in openTSNE._tsne.compute_kernel_tilde_2d\n",
      "MemoryError\n"
     ]
    },
    {
     "ename": "MemoryError",
     "evalue": "",
     "output_type": "error",
     "traceback": [
      "\u001b[0;31m---------------------------------------------------------------------------\u001b[0m",
      "\u001b[0;31mMemoryError\u001b[0m                               Traceback (most recent call last)",
      "\u001b[0;32mopenTSNE/_tsne.pyx\u001b[0m in \u001b[0;36mopenTSNE._tsne.compute_kernel_tilde_2d\u001b[0;34m()\u001b[0m\n",
      "\u001b[0;31mMemoryError\u001b[0m: "
     ]
    },
    {
     "name": "stderr",
     "output_type": "stream",
     "text": [
      "Exception ignored in: 'openTSNE._tsne.estimate_negative_gradient_fft_2d'\n",
      "Traceback (most recent call last):\n",
      "  File \"openTSNE/_tsne.pyx\", line 575, in openTSNE._tsne.compute_kernel_tilde_2d\n",
      "MemoryError\n"
     ]
    },
    {
     "ename": "MemoryError",
     "evalue": "",
     "output_type": "error",
     "traceback": [
      "\u001b[0;31m---------------------------------------------------------------------------\u001b[0m",
      "\u001b[0;31mMemoryError\u001b[0m                               Traceback (most recent call last)",
      "\u001b[0;32mopenTSNE/_tsne.pyx\u001b[0m in \u001b[0;36mopenTSNE._tsne.compute_kernel_tilde_2d\u001b[0;34m()\u001b[0m\n",
      "\u001b[0;31mMemoryError\u001b[0m: "
     ]
    },
    {
     "name": "stderr",
     "output_type": "stream",
     "text": [
      "Exception ignored in: 'openTSNE._tsne.estimate_negative_gradient_fft_2d'\n",
      "Traceback (most recent call last):\n",
      "  File \"openTSNE/_tsne.pyx\", line 575, in openTSNE._tsne.compute_kernel_tilde_2d\n",
      "MemoryError\n"
     ]
    },
    {
     "ename": "MemoryError",
     "evalue": "",
     "output_type": "error",
     "traceback": [
      "\u001b[0;31m---------------------------------------------------------------------------\u001b[0m",
      "\u001b[0;31mMemoryError\u001b[0m                               Traceback (most recent call last)",
      "\u001b[0;32mopenTSNE/_tsne.pyx\u001b[0m in \u001b[0;36mopenTSNE._tsne.compute_kernel_tilde_2d\u001b[0;34m()\u001b[0m\n",
      "\u001b[0;31mMemoryError\u001b[0m: "
     ]
    },
    {
     "name": "stderr",
     "output_type": "stream",
     "text": [
      "Exception ignored in: 'openTSNE._tsne.estimate_negative_gradient_fft_2d'\n",
      "Traceback (most recent call last):\n",
      "  File \"openTSNE/_tsne.pyx\", line 575, in openTSNE._tsne.compute_kernel_tilde_2d\n",
      "MemoryError\n"
     ]
    },
    {
     "ename": "MemoryError",
     "evalue": "",
     "output_type": "error",
     "traceback": [
      "\u001b[0;31m---------------------------------------------------------------------------\u001b[0m",
      "\u001b[0;31mMemoryError\u001b[0m                               Traceback (most recent call last)",
      "\u001b[0;32mopenTSNE/_tsne.pyx\u001b[0m in \u001b[0;36mopenTSNE._tsne.compute_kernel_tilde_2d\u001b[0;34m()\u001b[0m\n",
      "\u001b[0;31mMemoryError\u001b[0m: "
     ]
    },
    {
     "name": "stderr",
     "output_type": "stream",
     "text": [
      "Exception ignored in: 'openTSNE._tsne.estimate_negative_gradient_fft_2d'\n",
      "Traceback (most recent call last):\n",
      "  File \"openTSNE/_tsne.pyx\", line 575, in openTSNE._tsne.compute_kernel_tilde_2d\n",
      "MemoryError\n"
     ]
    },
    {
     "ename": "MemoryError",
     "evalue": "",
     "output_type": "error",
     "traceback": [
      "\u001b[0;31m---------------------------------------------------------------------------\u001b[0m",
      "\u001b[0;31mMemoryError\u001b[0m                               Traceback (most recent call last)",
      "\u001b[0;32mopenTSNE/_tsne.pyx\u001b[0m in \u001b[0;36mopenTSNE._tsne.compute_kernel_tilde_2d\u001b[0;34m()\u001b[0m\n",
      "\u001b[0;31mMemoryError\u001b[0m: "
     ]
    },
    {
     "name": "stderr",
     "output_type": "stream",
     "text": [
      "Exception ignored in: 'openTSNE._tsne.estimate_negative_gradient_fft_2d'\n",
      "Traceback (most recent call last):\n",
      "  File \"openTSNE/_tsne.pyx\", line 575, in openTSNE._tsne.compute_kernel_tilde_2d\n",
      "MemoryError\n"
     ]
    },
    {
     "ename": "MemoryError",
     "evalue": "",
     "output_type": "error",
     "traceback": [
      "\u001b[0;31m---------------------------------------------------------------------------\u001b[0m",
      "\u001b[0;31mMemoryError\u001b[0m                               Traceback (most recent call last)",
      "\u001b[0;32mopenTSNE/_tsne.pyx\u001b[0m in \u001b[0;36mopenTSNE._tsne.compute_kernel_tilde_2d\u001b[0;34m()\u001b[0m\n",
      "\u001b[0;31mMemoryError\u001b[0m: "
     ]
    },
    {
     "name": "stderr",
     "output_type": "stream",
     "text": [
      "Exception ignored in: 'openTSNE._tsne.estimate_negative_gradient_fft_2d'\n",
      "Traceback (most recent call last):\n",
      "  File \"openTSNE/_tsne.pyx\", line 575, in openTSNE._tsne.compute_kernel_tilde_2d\n",
      "MemoryError\n"
     ]
    },
    {
     "ename": "MemoryError",
     "evalue": "",
     "output_type": "error",
     "traceback": [
      "\u001b[0;31m---------------------------------------------------------------------------\u001b[0m",
      "\u001b[0;31mMemoryError\u001b[0m                               Traceback (most recent call last)",
      "\u001b[0;32mopenTSNE/_tsne.pyx\u001b[0m in \u001b[0;36mopenTSNE._tsne.compute_kernel_tilde_2d\u001b[0;34m()\u001b[0m\n",
      "\u001b[0;31mMemoryError\u001b[0m: "
     ]
    },
    {
     "name": "stderr",
     "output_type": "stream",
     "text": [
      "Exception ignored in: 'openTSNE._tsne.estimate_negative_gradient_fft_2d'\n",
      "Traceback (most recent call last):\n",
      "  File \"openTSNE/_tsne.pyx\", line 575, in openTSNE._tsne.compute_kernel_tilde_2d\n",
      "MemoryError\n"
     ]
    },
    {
     "ename": "MemoryError",
     "evalue": "",
     "output_type": "error",
     "traceback": [
      "\u001b[0;31m---------------------------------------------------------------------------\u001b[0m",
      "\u001b[0;31mMemoryError\u001b[0m                               Traceback (most recent call last)",
      "\u001b[0;32mopenTSNE/_tsne.pyx\u001b[0m in \u001b[0;36mopenTSNE._tsne.compute_kernel_tilde_2d\u001b[0;34m()\u001b[0m\n",
      "\u001b[0;31mMemoryError\u001b[0m: "
     ]
    },
    {
     "name": "stderr",
     "output_type": "stream",
     "text": [
      "Exception ignored in: 'openTSNE._tsne.estimate_negative_gradient_fft_2d'\n",
      "Traceback (most recent call last):\n",
      "  File \"openTSNE/_tsne.pyx\", line 575, in openTSNE._tsne.compute_kernel_tilde_2d\n",
      "MemoryError\n"
     ]
    },
    {
     "ename": "MemoryError",
     "evalue": "",
     "output_type": "error",
     "traceback": [
      "\u001b[0;31m---------------------------------------------------------------------------\u001b[0m",
      "\u001b[0;31mMemoryError\u001b[0m                               Traceback (most recent call last)",
      "\u001b[0;32mopenTSNE/_tsne.pyx\u001b[0m in \u001b[0;36mopenTSNE._tsne.compute_kernel_tilde_2d\u001b[0;34m()\u001b[0m\n",
      "\u001b[0;31mMemoryError\u001b[0m: "
     ]
    },
    {
     "name": "stderr",
     "output_type": "stream",
     "text": [
      "Exception ignored in: 'openTSNE._tsne.estimate_negative_gradient_fft_2d'\n",
      "Traceback (most recent call last):\n",
      "  File \"openTSNE/_tsne.pyx\", line 575, in openTSNE._tsne.compute_kernel_tilde_2d\n",
      "MemoryError\n"
     ]
    },
    {
     "ename": "MemoryError",
     "evalue": "",
     "output_type": "error",
     "traceback": [
      "\u001b[0;31m---------------------------------------------------------------------------\u001b[0m",
      "\u001b[0;31mMemoryError\u001b[0m                               Traceback (most recent call last)",
      "\u001b[0;32mopenTSNE/_tsne.pyx\u001b[0m in \u001b[0;36mopenTSNE._tsne.compute_kernel_tilde_2d\u001b[0;34m()\u001b[0m\n",
      "\u001b[0;31mMemoryError\u001b[0m: "
     ]
    },
    {
     "name": "stderr",
     "output_type": "stream",
     "text": [
      "Exception ignored in: 'openTSNE._tsne.estimate_negative_gradient_fft_2d'\n",
      "Traceback (most recent call last):\n",
      "  File \"openTSNE/_tsne.pyx\", line 575, in openTSNE._tsne.compute_kernel_tilde_2d\n",
      "MemoryError\n"
     ]
    },
    {
     "ename": "MemoryError",
     "evalue": "",
     "output_type": "error",
     "traceback": [
      "\u001b[0;31m---------------------------------------------------------------------------\u001b[0m",
      "\u001b[0;31mMemoryError\u001b[0m                               Traceback (most recent call last)",
      "\u001b[0;32mopenTSNE/_tsne.pyx\u001b[0m in \u001b[0;36mopenTSNE._tsne.compute_kernel_tilde_2d\u001b[0;34m()\u001b[0m\n",
      "\u001b[0;31mMemoryError\u001b[0m: "
     ]
    },
    {
     "name": "stderr",
     "output_type": "stream",
     "text": [
      "Exception ignored in: 'openTSNE._tsne.estimate_negative_gradient_fft_2d'\n",
      "Traceback (most recent call last):\n",
      "  File \"openTSNE/_tsne.pyx\", line 575, in openTSNE._tsne.compute_kernel_tilde_2d\n",
      "MemoryError\n"
     ]
    },
    {
     "ename": "MemoryError",
     "evalue": "",
     "output_type": "error",
     "traceback": [
      "\u001b[0;31m---------------------------------------------------------------------------\u001b[0m",
      "\u001b[0;31mMemoryError\u001b[0m                               Traceback (most recent call last)",
      "\u001b[0;32mopenTSNE/_tsne.pyx\u001b[0m in \u001b[0;36mopenTSNE._tsne.compute_kernel_tilde_2d\u001b[0;34m()\u001b[0m\n",
      "\u001b[0;31mMemoryError\u001b[0m: "
     ]
    },
    {
     "name": "stderr",
     "output_type": "stream",
     "text": [
      "Exception ignored in: 'openTSNE._tsne.estimate_negative_gradient_fft_2d'\n",
      "Traceback (most recent call last):\n",
      "  File \"openTSNE/_tsne.pyx\", line 575, in openTSNE._tsne.compute_kernel_tilde_2d\n",
      "MemoryError\n"
     ]
    },
    {
     "ename": "MemoryError",
     "evalue": "",
     "output_type": "error",
     "traceback": [
      "\u001b[0;31m---------------------------------------------------------------------------\u001b[0m",
      "\u001b[0;31mMemoryError\u001b[0m                               Traceback (most recent call last)",
      "\u001b[0;32mopenTSNE/_tsne.pyx\u001b[0m in \u001b[0;36mopenTSNE._tsne.compute_kernel_tilde_2d\u001b[0;34m()\u001b[0m\n",
      "\u001b[0;31mMemoryError\u001b[0m: "
     ]
    },
    {
     "name": "stderr",
     "output_type": "stream",
     "text": [
      "Exception ignored in: 'openTSNE._tsne.estimate_negative_gradient_fft_2d'\n",
      "Traceback (most recent call last):\n",
      "  File \"openTSNE/_tsne.pyx\", line 575, in openTSNE._tsne.compute_kernel_tilde_2d\n",
      "MemoryError\n"
     ]
    },
    {
     "ename": "MemoryError",
     "evalue": "",
     "output_type": "error",
     "traceback": [
      "\u001b[0;31m---------------------------------------------------------------------------\u001b[0m",
      "\u001b[0;31mMemoryError\u001b[0m                               Traceback (most recent call last)",
      "\u001b[0;32mopenTSNE/_tsne.pyx\u001b[0m in \u001b[0;36mopenTSNE._tsne.compute_kernel_tilde_2d\u001b[0;34m()\u001b[0m\n",
      "\u001b[0;31mMemoryError\u001b[0m: "
     ]
    },
    {
     "name": "stderr",
     "output_type": "stream",
     "text": [
      "Exception ignored in: 'openTSNE._tsne.estimate_negative_gradient_fft_2d'\n",
      "Traceback (most recent call last):\n",
      "  File \"openTSNE/_tsne.pyx\", line 575, in openTSNE._tsne.compute_kernel_tilde_2d\n",
      "MemoryError\n"
     ]
    },
    {
     "ename": "MemoryError",
     "evalue": "",
     "output_type": "error",
     "traceback": [
      "\u001b[0;31m---------------------------------------------------------------------------\u001b[0m",
      "\u001b[0;31mMemoryError\u001b[0m                               Traceback (most recent call last)",
      "\u001b[0;32mopenTSNE/_tsne.pyx\u001b[0m in \u001b[0;36mopenTSNE._tsne.compute_kernel_tilde_2d\u001b[0;34m()\u001b[0m\n",
      "\u001b[0;31mMemoryError\u001b[0m: "
     ]
    },
    {
     "name": "stderr",
     "output_type": "stream",
     "text": [
      "Exception ignored in: 'openTSNE._tsne.estimate_negative_gradient_fft_2d'\n",
      "Traceback (most recent call last):\n",
      "  File \"openTSNE/_tsne.pyx\", line 575, in openTSNE._tsne.compute_kernel_tilde_2d\n",
      "MemoryError\n"
     ]
    },
    {
     "ename": "MemoryError",
     "evalue": "",
     "output_type": "error",
     "traceback": [
      "\u001b[0;31m---------------------------------------------------------------------------\u001b[0m",
      "\u001b[0;31mMemoryError\u001b[0m                               Traceback (most recent call last)",
      "\u001b[0;32mopenTSNE/_tsne.pyx\u001b[0m in \u001b[0;36mopenTSNE._tsne.compute_kernel_tilde_2d\u001b[0;34m()\u001b[0m\n",
      "\u001b[0;31mMemoryError\u001b[0m: "
     ]
    },
    {
     "name": "stderr",
     "output_type": "stream",
     "text": [
      "Exception ignored in: 'openTSNE._tsne.estimate_negative_gradient_fft_2d'\n",
      "Traceback (most recent call last):\n",
      "  File \"openTSNE/_tsne.pyx\", line 575, in openTSNE._tsne.compute_kernel_tilde_2d\n",
      "MemoryError\n"
     ]
    },
    {
     "ename": "MemoryError",
     "evalue": "",
     "output_type": "error",
     "traceback": [
      "\u001b[0;31m---------------------------------------------------------------------------\u001b[0m",
      "\u001b[0;31mMemoryError\u001b[0m                               Traceback (most recent call last)",
      "\u001b[0;32mopenTSNE/_tsne.pyx\u001b[0m in \u001b[0;36mopenTSNE._tsne.compute_kernel_tilde_2d\u001b[0;34m()\u001b[0m\n",
      "\u001b[0;31mMemoryError\u001b[0m: "
     ]
    },
    {
     "name": "stderr",
     "output_type": "stream",
     "text": [
      "Exception ignored in: 'openTSNE._tsne.estimate_negative_gradient_fft_2d'\n",
      "Traceback (most recent call last):\n",
      "  File \"openTSNE/_tsne.pyx\", line 575, in openTSNE._tsne.compute_kernel_tilde_2d\n",
      "MemoryError\n"
     ]
    },
    {
     "ename": "MemoryError",
     "evalue": "",
     "output_type": "error",
     "traceback": [
      "\u001b[0;31m---------------------------------------------------------------------------\u001b[0m",
      "\u001b[0;31mMemoryError\u001b[0m                               Traceback (most recent call last)",
      "\u001b[0;32mopenTSNE/_tsne.pyx\u001b[0m in \u001b[0;36mopenTSNE._tsne.compute_kernel_tilde_2d\u001b[0;34m()\u001b[0m\n",
      "\u001b[0;31mMemoryError\u001b[0m: "
     ]
    },
    {
     "name": "stderr",
     "output_type": "stream",
     "text": [
      "Exception ignored in: 'openTSNE._tsne.estimate_negative_gradient_fft_2d'\n",
      "Traceback (most recent call last):\n",
      "  File \"openTSNE/_tsne.pyx\", line 575, in openTSNE._tsne.compute_kernel_tilde_2d\n",
      "MemoryError\n"
     ]
    },
    {
     "ename": "MemoryError",
     "evalue": "",
     "output_type": "error",
     "traceback": [
      "\u001b[0;31m---------------------------------------------------------------------------\u001b[0m",
      "\u001b[0;31mMemoryError\u001b[0m                               Traceback (most recent call last)",
      "\u001b[0;32mopenTSNE/_tsne.pyx\u001b[0m in \u001b[0;36mopenTSNE._tsne.compute_kernel_tilde_2d\u001b[0;34m()\u001b[0m\n",
      "\u001b[0;31mMemoryError\u001b[0m: "
     ]
    },
    {
     "name": "stderr",
     "output_type": "stream",
     "text": [
      "Exception ignored in: 'openTSNE._tsne.estimate_negative_gradient_fft_2d'\n",
      "Traceback (most recent call last):\n",
      "  File \"openTSNE/_tsne.pyx\", line 575, in openTSNE._tsne.compute_kernel_tilde_2d\n",
      "MemoryError\n"
     ]
    },
    {
     "ename": "MemoryError",
     "evalue": "",
     "output_type": "error",
     "traceback": [
      "\u001b[0;31m---------------------------------------------------------------------------\u001b[0m",
      "\u001b[0;31mMemoryError\u001b[0m                               Traceback (most recent call last)",
      "\u001b[0;32mopenTSNE/_tsne.pyx\u001b[0m in \u001b[0;36mopenTSNE._tsne.compute_kernel_tilde_2d\u001b[0;34m()\u001b[0m\n",
      "\u001b[0;31mMemoryError\u001b[0m: "
     ]
    },
    {
     "name": "stderr",
     "output_type": "stream",
     "text": [
      "Exception ignored in: 'openTSNE._tsne.estimate_negative_gradient_fft_2d'\n",
      "Traceback (most recent call last):\n",
      "  File \"openTSNE/_tsne.pyx\", line 575, in openTSNE._tsne.compute_kernel_tilde_2d\n",
      "MemoryError\n"
     ]
    }
   ],
   "source": [
    "%%time \n",
    "embedding1_ = embedding_.optimize(n_iter=250, exaggeration=12, momentum=0.5)\n",
    "embedding2_ = embedding1_.optimize(n_iter=750, exaggeration=1, momentum=0.8)"
   ]
  },
  {
   "cell_type": "code",
   "execution_count": null,
   "metadata": {},
   "outputs": [],
   "source": [
    "\n",
    "fig, ax = plt.subplots()\n",
    "ax.scatter(embedding2[:,0], embedding2[:,1], c=y_train, rasterized=True)"
   ]
  },
  {
   "cell_type": "markdown",
   "metadata": {},
   "source": [
    "# tsne - random sampling"
   ]
  },
  {
   "cell_type": "code",
   "execution_count": null,
   "metadata": {
    "scrolled": true
   },
   "outputs": [],
   "source": [
    "aff.P"
   ]
  },
  {
   "cell_type": "code",
   "execution_count": null,
   "metadata": {},
   "outputs": [],
   "source": [
    "aff._PerplexityBasedNN__neighbors.shape"
   ]
  },
  {
   "cell_type": "code",
   "execution_count": null,
   "metadata": {},
   "outputs": [],
   "source": [
    "aff._PerplexityBasedNN__distances.shape"
   ]
  },
  {
   "cell_type": "code",
   "execution_count": null,
   "metadata": {},
   "outputs": [],
   "source": [
    "from openTSNE import _tsne"
   ]
  },
  {
   "cell_type": "code",
   "execution_count": null,
   "metadata": {},
   "outputs": [],
   "source": [
    "__neighbors, __distances = aff._PerplexityBasedNN__neighbors, aff._PerplexityBasedNN__distances"
   ]
  },
  {
   "cell_type": "code",
   "execution_count": null,
   "metadata": {},
   "outputs": [],
   "source": [
    "%time P = affinity.joint_probabilities_nn(__neighbors, __distances, [30])"
   ]
  },
  {
   "cell_type": "code",
   "execution_count": null,
   "metadata": {},
   "outputs": [],
   "source": [
    "P"
   ]
  },
  {
   "cell_type": "code",
   "execution_count": null,
   "metadata": {},
   "outputs": [],
   "source": [
    "a,b = _tsne.compute_gaussian_perplexity_tau(__distances, np.array([30], dtype=float))"
   ]
  },
  {
   "cell_type": "code",
   "execution_count": null,
   "metadata": {},
   "outputs": [],
   "source": [
    "np.array(a).shape"
   ]
  },
  {
   "cell_type": "code",
   "execution_count": null,
   "metadata": {},
   "outputs": [],
   "source": [
    "import scipy.sparse as sp"
   ]
  },
  {
   "cell_type": "code",
   "execution_count": null,
   "metadata": {},
   "outputs": [],
   "source": [
    "n_samples = 60000\n",
    "n_reference_samples = n_samples\n",
    "k_neighbors = 90\n",
    "\n",
    "a_ = np.array(a)\n",
    "\n",
    "P_ = sp.csr_matrix(\n",
    "    (\n",
    "        a_.ravel(),\n",
    "        __neighbors.ravel(),\n",
    "        range(0, n_samples * k_neighbors + 1, k_neighbors),\n",
    "    ),\n",
    "    shape=(n_samples, n_reference_samples),\n",
    ")\n"
   ]
  },
  {
   "cell_type": "code",
   "execution_count": null,
   "metadata": {},
   "outputs": [],
   "source": [
    "P_"
   ]
  },
  {
   "cell_type": "code",
   "execution_count": null,
   "metadata": {},
   "outputs": [],
   "source": [
    "60000*90"
   ]
  },
  {
   "cell_type": "code",
   "execution_count": null,
   "metadata": {},
   "outputs": [],
   "source": [
    "(P_ + P_.T)"
   ]
  },
  {
   "cell_type": "code",
   "execution_count": null,
   "metadata": {},
   "outputs": [],
   "source": [
    "P.indices, P.indptr, P.data"
   ]
  },
  {
   "cell_type": "code",
   "execution_count": null,
   "metadata": {},
   "outputs": [],
   "source": [
    "P.data"
   ]
  },
  {
   "cell_type": "code",
   "execution_count": null,
   "metadata": {},
   "outputs": [],
   "source": [
    "P.indptr.shape"
   ]
  },
  {
   "cell_type": "code",
   "execution_count": null,
   "metadata": {},
   "outputs": [],
   "source": [
    "P.data.shape"
   ]
  },
  {
   "cell_type": "code",
   "execution_count": null,
   "metadata": {},
   "outputs": [],
   "source": [
    "b = np.array(b)"
   ]
  },
  {
   "cell_type": "code",
   "execution_count": null,
   "metadata": {},
   "outputs": [],
   "source": [
    "plt.hist(b)"
   ]
  },
  {
   "cell_type": "code",
   "execution_count": null,
   "metadata": {},
   "outputs": [],
   "source": [
    "i, j = P.nonzero()"
   ]
  },
  {
   "cell_type": "code",
   "execution_count": null,
   "metadata": {},
   "outputs": [],
   "source": [
    "from collections import Counter"
   ]
  },
  {
   "cell_type": "code",
   "execution_count": null,
   "metadata": {},
   "outputs": [],
   "source": [
    "cnt_i = Counter(i)"
   ]
  },
  {
   "cell_type": "code",
   "execution_count": null,
   "metadata": {},
   "outputs": [],
   "source": [
    "cnt_i"
   ]
  },
  {
   "cell_type": "code",
   "execution_count": null,
   "metadata": {},
   "outputs": [],
   "source": [
    "cnt_j = Counter(j)"
   ]
  },
  {
   "cell_type": "code",
   "execution_count": null,
   "metadata": {},
   "outputs": [],
   "source": [
    "cnt_j"
   ]
  },
  {
   "cell_type": "code",
   "execution_count": null,
   "metadata": {},
   "outputs": [],
   "source": [
    "plt.hist(np.array([i for i in cnt_i.values()]))"
   ]
  },
  {
   "cell_type": "code",
   "execution_count": null,
   "metadata": {},
   "outputs": [],
   "source": [
    "import stochasticsampling as ss"
   ]
  },
  {
   "cell_type": "code",
   "execution_count": null,
   "metadata": {},
   "outputs": [],
   "source": [
    "%time affinity = ss.StochasticNN(X_train)"
   ]
  },
  {
   "cell_type": "code",
   "execution_count": null,
   "metadata": {},
   "outputs": [],
   "source": [
    "%time init = initialization.pca(X_train, random_state=42)"
   ]
  },
  {
   "cell_type": "code",
   "execution_count": null,
   "metadata": {},
   "outputs": [],
   "source": [
    "res = []\n",
    "\n",
    "\n",
    "embedding = ss.TSNEEmbedding(\n",
    "    init,\n",
    "    affinity,\n",
    "#     optimizer=openTSNE.tsne.gradient_descent(),\n",
    "    optimizer=ss.gradient_descent(),\n",
    "    callbacks=lambda it, err, emb: res.append((it, err)),\n",
    "    callbacks_every_iters=1,\n",
    "    n_jobs=8,\n",
    ")"
   ]
  },
  {
   "cell_type": "code",
   "execution_count": null,
   "metadata": {},
   "outputs": [],
   "source": [
    "embedding.optimize_?"
   ]
  },
  {
   "cell_type": "code",
   "execution_count": null,
   "metadata": {},
   "outputs": [],
   "source": []
  }
 ],
 "metadata": {
  "kernelspec": {
   "display_name": "Python 3",
   "language": "python",
   "name": "python3"
  },
  "language_info": {
   "codemirror_mode": {
    "name": "ipython",
    "version": 3
   },
   "file_extension": ".py",
   "mimetype": "text/x-python",
   "name": "python",
   "nbconvert_exporter": "python",
   "pygments_lexer": "ipython3",
   "version": "3.7.3"
  }
 },
 "nbformat": 4,
 "nbformat_minor": 2
}

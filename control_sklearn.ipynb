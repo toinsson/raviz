{
 "cells": [
  {
   "cell_type": "code",
   "execution_count": 12,
   "metadata": {},
   "outputs": [],
   "source": [
    "%matplotlib inline"
   ]
  },
  {
   "cell_type": "code",
   "execution_count": 13,
   "metadata": {},
   "outputs": [],
   "source": [
    "import matplotlib.pyplot as plt"
   ]
  },
  {
   "cell_type": "code",
   "execution_count": 14,
   "metadata": {},
   "outputs": [],
   "source": [
    "import sklearn\n",
    "from sklearn.manifold import TSNE\n",
    "from sklearn import datasets"
   ]
  },
  {
   "cell_type": "code",
   "execution_count": 15,
   "metadata": {},
   "outputs": [],
   "source": [
    "digits = datasets.load_digits()\n",
    "iris = datasets.load_iris()\n",
    "\n",
    "cur_dataset = digits\n",
    "\n",
    "x, y = cur_dataset[\"data\"], cur_dataset[\"target\"]"
   ]
  },
  {
   "cell_type": "code",
   "execution_count": 16,
   "metadata": {},
   "outputs": [],
   "source": [
    "# param\n",
    "tnse_params = {\n",
    "    'n_components':2,\n",
    "    'perplexity':30.0,\n",
    "    'early_exaggeration':12.0,\n",
    "    'learning_rate':200.0,\n",
    "    'n_iter':1000,\n",
    "    'n_iter_without_progress':300,\n",
    "    'min_grad_norm':1e-7,\n",
    "    'metric':\"euclidean\", \n",
    "    'init':\"random\", \n",
    "    'verbose':3,\n",
    "    'random_state':None, \n",
    "    'method':'barnes_hut',\n",
    "#     'method':'exact',\n",
    "    'angle':0.5,\n",
    "    }"
   ]
  },
  {
   "cell_type": "code",
   "execution_count": 17,
   "metadata": {},
   "outputs": [],
   "source": [
    "tsne_obj = TSNE(**tnse_params)"
   ]
  },
  {
   "cell_type": "code",
   "execution_count": 18,
   "metadata": {},
   "outputs": [
    {
     "name": "stdout",
     "output_type": "stream",
     "text": [
      "[t-SNE] Computing 91 nearest neighbors...\n",
      "[t-SNE] Indexed 1797 samples in 0.009s...\n",
      "[t-SNE] Computed neighbors for 1797 samples in 0.419s...\n",
      "[t-SNE] Computed conditional probabilities for sample 1000 / 1797\n",
      "[t-SNE] Computed conditional probabilities for sample 1797 / 1797\n",
      "[t-SNE] Mean sigma: 8.121136\n",
      "[t-SNE] Computed conditional probabilities in 0.077s\n",
      "[t-SNE] Iteration 50: error = 76.6471558, gradient norm = 0.1120959 (50 iterations in 1.067s)\n",
      "[t-SNE] Iteration 100: error = 64.5394974, gradient norm = 0.0613522 (50 iterations in 0.561s)\n",
      "[t-SNE] Iteration 150: error = 62.7247810, gradient norm = 0.0367231 (50 iterations in 0.495s)\n",
      "[t-SNE] Iteration 200: error = 62.1758842, gradient norm = 0.0248346 (50 iterations in 0.474s)\n",
      "[t-SNE] Iteration 250: error = 62.0061760, gradient norm = 0.0362342 (50 iterations in 0.462s)\n",
      "[t-SNE] KL divergence after 250 iterations with early exaggeration: 62.006176\n",
      "[t-SNE] Iteration 300: error = 1.0528947, gradient norm = 0.0008713 (50 iterations in 0.488s)\n",
      "[t-SNE] Iteration 350: error = 0.8798634, gradient norm = 0.0003842 (50 iterations in 0.468s)\n",
      "[t-SNE] Iteration 400: error = 0.8234118, gradient norm = 0.0002766 (50 iterations in 0.488s)\n",
      "[t-SNE] Iteration 450: error = 0.7982878, gradient norm = 0.0001900 (50 iterations in 0.478s)\n",
      "[t-SNE] Iteration 500: error = 0.7849705, gradient norm = 0.0001561 (50 iterations in 0.479s)\n",
      "[t-SNE] Iteration 550: error = 0.7761708, gradient norm = 0.0001485 (50 iterations in 0.497s)\n",
      "[t-SNE] Iteration 600: error = 0.7701954, gradient norm = 0.0001250 (50 iterations in 0.467s)\n",
      "[t-SNE] Iteration 650: error = 0.7656861, gradient norm = 0.0001242 (50 iterations in 0.485s)\n",
      "[t-SNE] Iteration 700: error = 0.7619247, gradient norm = 0.0001101 (50 iterations in 0.519s)\n",
      "[t-SNE] Iteration 750: error = 0.7586898, gradient norm = 0.0001044 (50 iterations in 0.481s)\n",
      "[t-SNE] Iteration 800: error = 0.7562681, gradient norm = 0.0000997 (50 iterations in 0.476s)\n",
      "[t-SNE] Iteration 850: error = 0.7538786, gradient norm = 0.0000946 (50 iterations in 0.512s)\n",
      "[t-SNE] Iteration 900: error = 0.7518199, gradient norm = 0.0000936 (50 iterations in 0.494s)\n",
      "[t-SNE] Iteration 950: error = 0.7500222, gradient norm = 0.0000933 (50 iterations in 0.482s)\n",
      "[t-SNE] Iteration 1000: error = 0.7484946, gradient norm = 0.0000837 (50 iterations in 0.481s)\n",
      "[t-SNE] KL divergence after 1000 iterations: 0.748495\n",
      "10.9 s ± 0 ns per loop (mean ± std. dev. of 1 run, 1 loop each)\n"
     ]
    }
   ],
   "source": [
    "res = %timeit -n1 -r1 -o embed = tsne_obj.fit_transform(x)"
   ]
  },
  {
   "cell_type": "code",
   "execution_count": null,
   "metadata": {},
   "outputs": [],
   "source": []
  },
  {
   "cell_type": "markdown",
   "metadata": {},
   "source": [
    "# test speed"
   ]
  },
  {
   "cell_type": "code",
   "execution_count": 26,
   "metadata": {},
   "outputs": [],
   "source": [
    "import numpy as np"
   ]
  },
  {
   "cell_type": "code",
   "execution_count": 33,
   "metadata": {},
   "outputs": [],
   "source": [
    "dataset = np.random.random((1000,10))"
   ]
  },
  {
   "cell_type": "code",
   "execution_count": 34,
   "metadata": {},
   "outputs": [],
   "source": [
    "tsne = TSNE(\n",
    "    n_components=2, perplexity=30, learning_rate=200,\n",
    "    n_jobs=8, \n",
    "#     angle=0.5, \n",
    "    initialization=\"pca\", metric=\"euclidean\",\n",
    "    early_exaggeration_iter=250, early_exaggeration=12, n_iter=750,\n",
    "    neighbors=\"exact\", negative_gradient_method=\"bh\",\n",
    ")"
   ]
  },
  {
   "cell_type": "code",
   "execution_count": 35,
   "metadata": {},
   "outputs": [
    {
     "name": "stdout",
     "output_type": "stream",
     "text": [
      "5.18 s ± 0 ns per loop (mean ± std. dev. of 1 run, 1 loop each)\n"
     ]
    }
   ],
   "source": [
    "meas = []\n",
    "\n",
    "for i in range(1):\n",
    "    res = %timeit -n1 -r1 -o embedding = tsne.fit(dataset)\n",
    "    meas.append((i, res.average))"
   ]
  },
  {
   "cell_type": "code",
   "execution_count": 30,
   "metadata": {},
   "outputs": [
    {
     "data": {
      "text/plain": [
       "1835"
      ]
     },
     "execution_count": 30,
     "metadata": {},
     "output_type": "execute_result"
    }
   ],
   "source": [
    "import gc\n",
    "gc.collect()"
   ]
  },
  {
   "cell_type": "code",
   "execution_count": 31,
   "metadata": {},
   "outputs": [],
   "source": [
    "del dataset"
   ]
  },
  {
   "cell_type": "code",
   "execution_count": 32,
   "metadata": {},
   "outputs": [
    {
     "data": {
      "text/plain": [
       "array([[  0.        , 118.75693451]])"
      ]
     },
     "execution_count": 32,
     "metadata": {},
     "output_type": "execute_result"
    }
   ],
   "source": [
    "np.array(meas)"
   ]
  },
  {
   "cell_type": "code",
   "execution_count": 57,
   "metadata": {},
   "outputs": [],
   "source": [
    "import resource"
   ]
  },
  {
   "cell_type": "code",
   "execution_count": 67,
   "metadata": {},
   "outputs": [],
   "source": [
    "res = resource.getrusage(resource.RUSAGE_SELF)"
   ]
  },
  {
   "cell_type": "code",
   "execution_count": 66,
   "metadata": {},
   "outputs": [
    {
     "data": {
      "text/plain": [
       "resource.struct_rusage(ru_utime=0.45248, ru_stime=0.079674, ru_maxrss=57408, ru_ixrss=0, ru_idrss=0, ru_isrss=0, ru_minflt=19935, ru_majflt=60, ru_nswap=0, ru_inblock=27832, ru_oublock=1872, ru_msgsnd=0, ru_msgrcv=0, ru_nsignals=0, ru_nvcsw=131, ru_nivcsw=13)"
      ]
     },
     "execution_count": 66,
     "metadata": {},
     "output_type": "execute_result"
    }
   ],
   "source": [
    "res"
   ]
  },
  {
   "cell_type": "code",
   "execution_count": 69,
   "metadata": {},
   "outputs": [],
   "source": [
    "import psutil"
   ]
  },
  {
   "cell_type": "code",
   "execution_count": 84,
   "metadata": {},
   "outputs": [
    {
     "data": {
      "text/plain": [
       "svmem(total=16703963136, available=11852615680, percent=29.0, used=4218605568, free=1784479744, active=8296726528, inactive=5787922432, buffers=277721088, cached=10423156736, shared=287514624, slab=571842560)"
      ]
     },
     "execution_count": 84,
     "metadata": {},
     "output_type": "execute_result"
    }
   ],
   "source": [
    "psutil.virtual_memory()"
   ]
  },
  {
   "cell_type": "code",
   "execution_count": null,
   "metadata": {},
   "outputs": [],
   "source": []
  }
 ],
 "metadata": {
  "kernelspec": {
   "display_name": "Python 3",
   "language": "python",
   "name": "python3"
  },
  "language_info": {
   "codemirror_mode": {
    "name": "ipython",
    "version": 3
   },
   "file_extension": ".py",
   "mimetype": "text/x-python",
   "name": "python",
   "nbconvert_exporter": "python",
   "pygments_lexer": "ipython3",
   "version": "3.7.3"
  }
 },
 "nbformat": 4,
 "nbformat_minor": 2
}

{
 "cells": [
  {
   "cell_type": "code",
   "execution_count": 37,
   "metadata": {},
   "outputs": [],
   "source": [
    "%matplotlib inline"
   ]
  },
  {
   "cell_type": "code",
   "execution_count": 38,
   "metadata": {},
   "outputs": [],
   "source": [
    "import matplotlib.pyplot as plt"
   ]
  },
  {
   "cell_type": "code",
   "execution_count": 39,
   "metadata": {},
   "outputs": [],
   "source": [
    "import openTSNE"
   ]
  },
  {
   "cell_type": "code",
   "execution_count": 40,
   "metadata": {},
   "outputs": [],
   "source": [
    "import numpy as np"
   ]
  },
  {
   "cell_type": "code",
   "execution_count": 41,
   "metadata": {},
   "outputs": [],
   "source": [
    "from openTSNE import nearest_neighbors, affinity"
   ]
  },
  {
   "cell_type": "code",
   "execution_count": 42,
   "metadata": {},
   "outputs": [],
   "source": [
    "data = np.random.random((1000, 10))"
   ]
  },
  {
   "cell_type": "code",
   "execution_count": 43,
   "metadata": {},
   "outputs": [],
   "source": [
    "def step1(data,\n",
    "          perplexity=30,\n",
    "          method=\"approx\",\n",
    "          metric=\"euclidean\",\n",
    "          metric_params=None,\n",
    "          symmetrize=True,\n",
    "          n_jobs=8,\n",
    "          random_state=None,\n",
    "         ):\n",
    "    n_samples = data.shape[0]\n",
    "    #     perplexity = self.check_perplexity(perplexity)\n",
    "\n",
    "    k_neighbors = min(n_samples - 1, int(3 * perplexity))\n",
    "    knn_index, __neighbors, __distances = affinity.build_knn_index(\n",
    "        data, method, k_neighbors, metric, metric_params, n_jobs, random_state\n",
    "    )\n",
    "    return knn_index, __neighbors, __distances\n",
    "\n",
    "#         self.P = joint_probabilities_nn(\n",
    "#             self.__neighbors,\n",
    "#             self.__distances,\n",
    "#             [self.perplexity],\n",
    "#             symmetrize=symmetrize,\n",
    "#             n_jobs=n_jobs,\n",
    "#         )"
   ]
  },
  {
   "cell_type": "code",
   "execution_count": 44,
   "metadata": {
    "collapsed": true
   },
   "outputs": [
    {
     "name": "stderr",
     "output_type": "stream",
     "text": [
      "/home/antoine/anaconda3/envs/raviz_opentsne/lib/python3.7/site-packages/numba-0.44.0-py3.7-linux-x86_64.egg/numba/compiler.py:588: NumbaPerformanceWarning: \n",
      "The keyword argument 'parallel=True' was specified but no transformation for parallel execution was possible.\n",
      "\n",
      "To find out why, try turning on parallel diagnostics, see http://numba.pydata.org/numba-doc/latest/user/parallel.html#diagnostics for help.\n",
      "\n",
      "File \"../../anaconda3/envs/raviz_opentsne/lib/python3.7/site-packages/pynndescent-0.3.0-py3.7.egg/pynndescent/pynndescent_.py\", line 37:\n",
      "<source missing, REPL/exec in use?>\n",
      "\n",
      "  self.func_ir.loc))\n",
      "/home/antoine/anaconda3/envs/raviz_opentsne/lib/python3.7/site-packages/numba-0.44.0-py3.7-linux-x86_64.egg/numba/compiler.py:588: NumbaPerformanceWarning: \n",
      "The keyword argument 'parallel=True' was specified but no transformation for parallel execution was possible.\n",
      "\n",
      "To find out why, try turning on parallel diagnostics, see http://numba.pydata.org/numba-doc/latest/user/parallel.html#diagnostics for help.\n",
      "\n",
      "File \"../../anaconda3/envs/raviz_opentsne/lib/python3.7/site-packages/pynndescent-0.3.0-py3.7.egg/pynndescent/pynndescent_.py\", line 48:\n",
      "<source missing, REPL/exec in use?>\n",
      "\n",
      "  self.func_ir.loc))\n"
     ]
    },
    {
     "name": "stdout",
     "output_type": "stream",
     "text": [
      "CPU times: user 3.4 s, sys: 78.1 ms, total: 3.48 s\n",
      "Wall time: 3.3 s\n"
     ]
    }
   ],
   "source": [
    "%time knn_index, __neighbors, __distances = step1(data)"
   ]
  },
  {
   "cell_type": "code",
   "execution_count": 45,
   "metadata": {},
   "outputs": [
    {
     "name": "stdout",
     "output_type": "stream",
     "text": [
      "CPU times: user 51 ms, sys: 11.7 ms, total: 62.6 ms\n",
      "Wall time: 103 ms\n"
     ]
    }
   ],
   "source": [
    "%time P = affinity.joint_probabilities_nn(__neighbors, __distances, [30], symmetrize=True, n_jobs=1,)"
   ]
  },
  {
   "cell_type": "code",
   "execution_count": 46,
   "metadata": {},
   "outputs": [
    {
     "data": {
      "text/plain": [
       "array([[915, 224, 584, ..., 405,  40, 946],\n",
       "       [240, 112, 761, ...,  58,   8, 117],\n",
       "       [317, 726, 760, ..., 303, 569, 283],\n",
       "       ...,\n",
       "       [111, 410, 196, ..., 966, 457, 373],\n",
       "       [430, 129, 600, ..., 178, 503, 690],\n",
       "       [365, 377, 705, ..., 310, 235, 360]])"
      ]
     },
     "execution_count": 46,
     "metadata": {},
     "output_type": "execute_result"
    }
   ],
   "source": [
    "__neighbors"
   ]
  },
  {
   "cell_type": "code",
   "execution_count": 47,
   "metadata": {},
   "outputs": [
    {
     "data": {
      "text/plain": [
       "array([[0.61397155, 0.62599491, 0.66575779, ..., 0.98840605, 0.98947653,\n",
       "        0.98950973],\n",
       "       [0.51083522, 0.59887325, 0.64032547, ..., 0.93648849, 0.93700096,\n",
       "        0.93961901],\n",
       "       [0.38601765, 0.52530663, 0.55058221, ..., 0.88709816, 0.88825245,\n",
       "        0.8905243 ],\n",
       "       ...,\n",
       "       [0.67927412, 0.69841596, 0.70424379, ..., 1.07223092, 1.07249813,\n",
       "        1.07323575],\n",
       "       [0.44536169, 0.51448673, 0.55186029, ..., 0.94567182, 0.94585438,\n",
       "        0.95041546],\n",
       "       [0.42429231, 0.46080337, 0.481764  , ..., 0.86184275, 0.86356104,\n",
       "        0.86421035]])"
      ]
     },
     "execution_count": 47,
     "metadata": {},
     "output_type": "execute_result"
    }
   ],
   "source": [
    "__distances"
   ]
  },
  {
   "cell_type": "code",
   "execution_count": 48,
   "metadata": {},
   "outputs": [
    {
     "data": {
      "image/png": "[encoded data removed]",
      "text/plain": [
       "<Figure size 432x288 with 1 Axes>"
      ]
     },
     "metadata": {
      "needs_background": "light"
     },
     "output_type": "display_data"
    }
   ],
   "source": [
    "fig, ax = plt.subplots()\n",
    "    \n",
    "for line in __distances[:100]:\n",
    "    ax.plot(line)"
   ]
  },
  {
   "cell_type": "markdown",
   "metadata": {},
   "source": [
    "# mnist fashion"
   ]
  },
  {
   "cell_type": "code",
   "execution_count": 49,
   "metadata": {},
   "outputs": [],
   "source": [
    "import sys\n",
    "sys.path.insert(0, \"../research/fashion-mnist/\")"
   ]
  },
  {
   "cell_type": "code",
   "execution_count": 50,
   "metadata": {},
   "outputs": [],
   "source": [
    "from utils import mnist_reader\n",
    "X_train, y_train = mnist_reader.load_mnist('../research/fashion-mnist/data/fashion', kind='train')\n",
    "# X_test, y_test = mnist_reader.load_mnist('data/fashion', kind='t10k')"
   ]
  },
  {
   "cell_type": "code",
   "execution_count": 51,
   "metadata": {},
   "outputs": [
    {
     "name": "stderr",
     "output_type": "stream",
     "text": [
      "/home/antoine/anaconda3/envs/raviz_opentsne/lib/python3.7/site-packages/numba-0.44.0-py3.7-linux-x86_64.egg/numba/compiler.py:588: NumbaPerformanceWarning: \n",
      "The keyword argument 'parallel=True' was specified but no transformation for parallel execution was possible.\n",
      "\n",
      "To find out why, try turning on parallel diagnostics, see http://numba.pydata.org/numba-doc/latest/user/parallel.html#diagnostics for help.\n",
      "\n",
      "File \"../../anaconda3/envs/raviz_opentsne/lib/python3.7/site-packages/pynndescent-0.3.0-py3.7.egg/pynndescent/pynndescent_.py\", line 37:\n",
      "<source missing, REPL/exec in use?>\n",
      "\n",
      "  self.func_ir.loc))\n",
      "/home/antoine/anaconda3/envs/raviz_opentsne/lib/python3.7/site-packages/numba-0.44.0-py3.7-linux-x86_64.egg/numba/compiler.py:588: NumbaPerformanceWarning: \n",
      "The keyword argument 'parallel=True' was specified but no transformation for parallel execution was possible.\n",
      "\n",
      "To find out why, try turning on parallel diagnostics, see http://numba.pydata.org/numba-doc/latest/user/parallel.html#diagnostics for help.\n",
      "\n",
      "File \"../../anaconda3/envs/raviz_opentsne/lib/python3.7/site-packages/pynndescent-0.3.0-py3.7.egg/pynndescent/pynndescent_.py\", line 48:\n",
      "<source missing, REPL/exec in use?>\n",
      "\n",
      "  self.func_ir.loc))\n"
     ]
    },
    {
     "name": "stdout",
     "output_type": "stream",
     "text": [
      "CPU times: user 3min 6s, sys: 2.9 s, total: 3min 9s\n",
      "Wall time: 1min 3s\n"
     ]
    }
   ],
   "source": [
    "%time knn_index, __neighbors, __distances = step1(X_train)"
   ]
  },
  {
   "cell_type": "code",
   "execution_count": 52,
   "metadata": {},
   "outputs": [
    {
     "name": "stdout",
     "output_type": "stream",
     "text": [
      "CPU times: user 7.32 s, sys: 290 ms, total: 7.61 s\n",
      "Wall time: 1.39 s\n"
     ]
    }
   ],
   "source": [
    "%time P = affinity.joint_probabilities_nn(__neighbors, __distances, [30], symmetrize=True, n_jobs=8)"
   ]
  },
  {
   "cell_type": "code",
   "execution_count": 53,
   "metadata": {},
   "outputs": [
    {
     "data": {
      "text/plain": [
       "((60000, 90), dtype('int64'))"
      ]
     },
     "execution_count": 53,
     "metadata": {},
     "output_type": "execute_result"
    }
   ],
   "source": [
    "__neighbors.shape, __neighbors.dtype"
   ]
  },
  {
   "cell_type": "code",
   "execution_count": 54,
   "metadata": {},
   "outputs": [
    {
     "data": {
      "text/plain": [
       "dtype('float64')"
      ]
     },
     "execution_count": 54,
     "metadata": {},
     "output_type": "execute_result"
    }
   ],
   "source": [
    "__distances.dtype"
   ]
  },
  {
   "cell_type": "code",
   "execution_count": 55,
   "metadata": {},
   "outputs": [],
   "source": [
    "from openTSNE import _tsne\n",
    "import scipy.sparse as sp"
   ]
  },
  {
   "cell_type": "code",
   "execution_count": 56,
   "metadata": {},
   "outputs": [],
   "source": [
    "def step2(neighbors,\n",
    "          distances,\n",
    "          perplexities,\n",
    "          symmetrize=True,\n",
    "          normalization=\"pair-wise\",\n",
    "          n_reference_samples=None,\n",
    "          n_jobs=8\n",
    "         ):\n",
    "    \n",
    "    #     assert normalization in (\n",
    "    #         \"pair-wise\",\n",
    "    #         \"point-wise\",\n",
    "    #     ), f\"Unrecognized normalization scheme `{normalization}`.\"\n",
    "\n",
    "    n_samples, k_neighbors = distances.shape\n",
    "\n",
    "    if n_reference_samples is None:\n",
    "        n_reference_samples = n_samples\n",
    "\n",
    "    # Compute asymmetric pairwise input similarities\n",
    "    conditional_P = _tsne.compute_gaussian_perplexity(\n",
    "        distances, np.array(perplexities, dtype=float), num_threads=n_jobs\n",
    "    )\n",
    "    conditional_P = np.asarray(conditional_P)\n",
    "\n",
    "    P = sp.csr_matrix(\n",
    "        (\n",
    "            conditional_P.ravel(),\n",
    "            neighbors.ravel(),\n",
    "            range(0, n_samples * k_neighbors + 1, k_neighbors),\n",
    "        ),\n",
    "        shape=(n_samples, n_reference_samples),\n",
    "    )\n",
    "\n",
    "    # Symmetrize the probability matrix\n",
    "    if symmetrize:\n",
    "        P = (P + P.T) / 2\n",
    "\n",
    "    if normalization == \"pair-wise\":\n",
    "        P /= np.sum(P)\n",
    "    elif normalization == \"point-wise\":\n",
    "        P = sp.diags(np.asarray(1 / P.sum(axis=1)).ravel()) @ P\n",
    "\n",
    "    return P"
   ]
  },
  {
   "cell_type": "code",
   "execution_count": 57,
   "metadata": {},
   "outputs": [
    {
     "name": "stdout",
     "output_type": "stream",
     "text": [
      "CPU times: user 7.42 s, sys: 435 ms, total: 7.86 s\n",
      "Wall time: 1.44 s\n"
     ]
    }
   ],
   "source": [
    "%time P = step2(__neighbors, __distances, [30], symmetrize=True, n_jobs=8)"
   ]
  },
  {
   "cell_type": "code",
   "execution_count": 24,
   "metadata": {},
   "outputs": [
    {
     "data": {
      "text/plain": [
       "<60000x60000 sparse matrix of type '<class 'numpy.float64'>'\n",
       "\twith 8417634 stored elements in Compressed Sparse Row format>"
      ]
     },
     "execution_count": 24,
     "metadata": {},
     "output_type": "execute_result"
    }
   ],
   "source": [
    "P"
   ]
  },
  {
   "cell_type": "code",
   "execution_count": 27,
   "metadata": {},
   "outputs": [],
   "source": [
    "cond_P = _tsne.compute_gaussian_perplexity(__distances, np.array([30], dtype=float), num_threads=8)"
   ]
  },
  {
   "cell_type": "code",
   "execution_count": 29,
   "metadata": {},
   "outputs": [
    {
     "data": {
      "text/plain": [
       "(60000, 90)"
      ]
     },
     "execution_count": 29,
     "metadata": {},
     "output_type": "execute_result"
    }
   ],
   "source": [
    "cond_P.shape"
   ]
  },
  {
   "cell_type": "code",
   "execution_count": null,
   "metadata": {},
   "outputs": [],
   "source": []
  },
  {
   "cell_type": "code",
   "execution_count": 59,
   "metadata": {},
   "outputs": [
    {
     "data": {
      "text/plain": [
       "array([50815, 49881, 46381, ..., 49655, 40600, 11912], dtype=int32)"
      ]
     },
     "execution_count": 59,
     "metadata": {},
     "output_type": "execute_result"
    }
   ],
   "source": [
    "P.indices"
   ]
  },
  {
   "cell_type": "code",
   "execution_count": null,
   "metadata": {},
   "outputs": [],
   "source": []
  },
  {
   "cell_type": "code",
   "execution_count": null,
   "metadata": {},
   "outputs": [],
   "source": []
  },
  {
   "cell_type": "code",
   "execution_count": null,
   "metadata": {},
   "outputs": [],
   "source": []
  }
 ],
 "metadata": {
  "kernelspec": {
   "display_name": "Python 3",
   "language": "python",
   "name": "python3"
  },
  "language_info": {
   "codemirror_mode": {
    "name": "ipython",
    "version": 3
   },
   "file_extension": ".py",
   "mimetype": "text/x-python",
   "name": "python",
   "nbconvert_exporter": "python",
   "pygments_lexer": "ipython3",
   "version": "3.7.3"
  }
 },
 "nbformat": 4,
 "nbformat_minor": 2
}

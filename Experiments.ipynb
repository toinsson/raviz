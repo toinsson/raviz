{
 "cells": [
  {
   "cell_type": "code",
   "execution_count": 1,
   "metadata": {},
   "outputs": [],
   "source": [
    "%matplotlib inline"
   ]
  },
  {
   "cell_type": "code",
   "execution_count": null,
   "metadata": {},
   "outputs": [],
   "source": [
    "from nb_import_exp import *"
   ]
  },
  {
   "cell_type": "markdown",
   "metadata": {},
   "source": [
    "# abstract\n",
    "\n",
    "Follows what I have been trying.\n",
    "\n",
    "- run t-SNE on dataset usually employ with t-SNE\n",
    "- run force on same datasets\n",
    "- develop a verified version of force in Python\n",
    "- explore different types of initialisation for t-SNE"
   ]
  },
  {
   "cell_type": "markdown",
   "metadata": {},
   "source": [
    "# number of neighbhour of same class in K-ANN"
   ]
  },
  {
   "cell_type": "markdown",
   "metadata": {},
   "source": [
    "# influence of different initialisation"
   ]
  },
  {
   "cell_type": "markdown",
   "metadata": {},
   "source": [
    "# comparison stress for t-SNE and force embeddings"
   ]
  },
  {
   "cell_type": "markdown",
   "metadata": {},
   "source": [
    "# t-SNE gradient\n",
    "\n",
    "The gradient of the cost is equal to:\n",
    "\n",
    "\n",
    "$$\\frac{\\partial C}{\\partial y_i} = 4 \\sum_j (p_{ij} - q_{ij})(y_i - y_j)(1+\\lVert y_i - y_j \\rVert^2)^{-1}$$\n",
    "\n",
    "\n",
    "which for one point $i$ takes into account the influence of all other points $j$. The shape of the gradient can be explored by looking at the contribution of 1 point to its norm:\n",
    "\n",
    "$$\\lVert \\frac{\\partial C_j}{\\partial y_i} \\rVert = \\lVert (p_{ij} - q_{ij})(y_i - y_j)(1+\\lVert y_i - y_j \\rVert^2)^{-1} \\rVert$$\n",
    "\n",
    "If we set the two variables $x = \\lVert x_i - x_j \\rVert$ and $y = \\lVert y_i - y_j \\rVert$, we get:\n",
    "\n",
    "\n",
    "$\\lVert \\frac{\\partial C_j}{\\partial y_i} \\rVert = 4 \\lVert F_{attr,i} - F_{rep,i} \\rVert$\n",
    "\n",
    "$F_{attr,i} = Z * p_{ij}q_{ij} Z (y_i-y_j)$\n",
    "\n",
    "$F_{rep,i} = Z * q_{ij}^2 (y_i-y_j)$\n",
    "\n",
    "$Z = \\sum_{k \\neq l} (1+ \\lVert y_k - y_l \\rVert^2)^{-1}$\n",
    "\n",
    "$p_{i|j} = \\frac{exp(-\\lVert x_i - x_j \\rVert^2/2\\sigma_i^2)}{\\sum_{k \\neq i} exp(-\\lVert x_i - x_k \\rVert^2/2\\sigma_i^2)}$\n",
    "\n",
    "\n",
    "$p_{ij} = \\frac{p_{i|j} + p_{j|i}}{2N}$\n",
    "\n",
    "$q_{ij} = \\frac{(1 + \\lVert y_i - y_j \\rVert^2)^{-1}}{\\sum_{k \\neq l} (1 + \\lVert y_k - y_l \\rVert^2)^{-1}}$\n",
    "\n",
    "\n",
    "\n",
    "$p_{ij} = C_0 exp(-x^2/C_1)$\n",
    "\n",
    "$q_{ij} = D_0 (1 + y^2)^{-1}$\n",
    "\n",
    "\n",
    "$$\\lVert \\frac{\\partial C_j}{\\partial y_i} \\rVert = (C_0 exp(-x^2/C_1) - D_0 (1 + y^2)^{-1}) \\frac{y}{1+y^2}$$\n",
    "\n",
    "$$\\lVert \\frac{\\partial C_j}{\\partial y_i} \\rVert = \\frac{C_0 y \\exp(-x^2/C_1)}{1+y^2} - \\frac{D_0 y}{(1+y^2)^2}$$\n",
    "\n",
    "<font size=\"5\">\n",
    "Test\n",
    "</font>\n"
   ]
  },
  {
   "cell_type": "code",
   "execution_count": 107,
   "metadata": {},
   "outputs": [],
   "source": [
    "C0 = 1\n",
    "C1 = 1\n",
    "D0 = 1\n",
    "\n",
    "def gradient(x, y):\n",
    "    A = C0 * y * np.exp(-x**2/C1) / (1+y**2)\n",
    "    B = D0 * y / (1+y**2)**2\n",
    "    \n",
    "    return A - B"
   ]
  },
  {
   "cell_type": "code",
   "execution_count": 108,
   "metadata": {},
   "outputs": [],
   "source": [
    "N = 50\n",
    "x = np.linspace(0,10,N)\n",
    "y = np.linspace(0,10,N)\n",
    "X,Y = np.meshgrid(x, y) # grid of point"
   ]
  },
  {
   "cell_type": "code",
   "execution_count": 109,
   "metadata": {},
   "outputs": [],
   "source": [
    "Z = gradient(X, Y) # evaluation of the function on the grid"
   ]
  },
  {
   "cell_type": "code",
   "execution_count": 110,
   "metadata": {},
   "outputs": [],
   "source": [
    "# plt.imshow(Z)"
   ]
  },
  {
   "cell_type": "code",
   "execution_count": 111,
   "metadata": {},
   "outputs": [],
   "source": [
    "from matplotlib import cm"
   ]
  },
  {
   "cell_type": "code",
   "execution_count": 112,
   "metadata": {},
   "outputs": [
    {
     "data": {
      "text/plain": [
       "<matplotlib.colorbar.Colorbar at 0x169a68860>"
      ]
     },
     "execution_count": 112,
     "metadata": {},
     "output_type": "execute_result"
    },
    {
     "data": {
      "image/png": "[encoded data removed]",
      "text/plain": [
       "<Figure size 432x432 with 2 Axes>"
      ]
     },
     "metadata": {
      "needs_background": "light"
     },
     "output_type": "display_data"
    }
   ],
   "source": [
    "fig, ax = plt.subplots(figsize=(6,6))\n",
    "res = ax.pcolor(x, y, Z, cmap=cm.RdBu)\n",
    "fig.colorbar(res, ax=ax)"
   ]
  },
  {
   "cell_type": "code",
   "execution_count": 99,
   "metadata": {},
   "outputs": [],
   "source": [
    "from ipywidgets import interactive, IntSlider"
   ]
  },
  {
   "cell_type": "code",
   "execution_count": 115,
   "metadata": {},
   "outputs": [],
   "source": [
    "def plot_gradient(a, b, c, N):\n",
    "    \n",
    "    C0 = a\n",
    "    C1 = b\n",
    "    D0 = c\n",
    "\n",
    "    def gradient(x, y):\n",
    "        A = C0 * y * np.exp(-x**2/C1) / (1+y**2)\n",
    "        B = D0 * y / (1+y**2)**2\n",
    "        return A - B\n",
    "\n",
    "    N = N\n",
    "    x = np.linspace(0,10,N)\n",
    "    y = np.linspace(0,10,N)\n",
    "    X,Y = np.meshgrid(x, y) # grid of point\n",
    "\n",
    "    Z = gradient(X, Y) # evaluation of the function on the grid\n",
    "    \n",
    "    fig, ax = plt.subplots(figsize=(6,6))\n",
    "    res = ax.pcolor(x, y, Z, cmap=cm.RdBu)\n",
    "    fig.colorbar(res, ax=ax)"
   ]
  },
  {
   "cell_type": "code",
   "execution_count": 122,
   "metadata": {},
   "outputs": [],
   "source": [
    "w = interactive(plot_gradient, a=IntSlider(1,1,10), b=IntSlider(1,1,10), c=IntSlider(1,1,10), \n",
    "                N=IntSlider(30,10,100), continuous_update=False)"
   ]
  },
  {
   "cell_type": "code",
   "execution_count": 123,
   "metadata": {},
   "outputs": [
    {
     "data": {
      "application/vnd.jupyter.widget-view+json": {
       "model_id": "cfa9d14e2a594045906aff18b5fd636c",
       "version_major": 2,
       "version_minor": 0
      },
      "text/plain": [
       "interactive(children=(IntSlider(value=1, description='a', max=10, min=1), IntSlider(value=1, description='b', …"
      ]
     },
     "metadata": {},
     "output_type": "display_data"
    }
   ],
   "source": [
    "display(w)"
   ]
  },
  {
   "cell_type": "code",
   "execution_count": null,
   "metadata": {},
   "outputs": [],
   "source": []
  }
 ],
 "metadata": {
  "kernelspec": {
   "display_name": "Python 3",
   "language": "python",
   "name": "python3"
  },
  "language_info": {
   "codemirror_mode": {
    "name": "ipython",
    "version": 3
   },
   "file_extension": ".py",
   "mimetype": "text/x-python",
   "name": "python",
   "nbconvert_exporter": "python",
   "pygments_lexer": "ipython3",
   "version": "3.7.3"
  }
 },
 "nbformat": 4,
 "nbformat_minor": 2
}

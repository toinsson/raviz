{
 "cells": [
  {
   "cell_type": "code",
   "execution_count": 1,
   "metadata": {},
   "outputs": [],
   "source": [
    "%matplotlib inline"
   ]
  },
  {
   "cell_type": "code",
   "execution_count": 2,
   "metadata": {},
   "outputs": [],
   "source": [
    "import matplotlib.pyplot as plt"
   ]
  },
  {
   "cell_type": "code",
   "execution_count": 8,
   "metadata": {},
   "outputs": [],
   "source": [
    "import numpy as np"
   ]
  },
  {
   "cell_type": "code",
   "execution_count": 3,
   "metadata": {},
   "outputs": [],
   "source": [
    "import sklearn\n",
    "from sklearn.manifold import TSNE\n",
    "from sklearn import datasets"
   ]
  },
  {
   "cell_type": "code",
   "execution_count": 4,
   "metadata": {},
   "outputs": [],
   "source": [
    "digits = datasets.load_digits()\n",
    "iris = datasets.load_iris()\n",
    "\n",
    "cur_dataset = digits\n",
    "\n",
    "x, y = cur_dataset[\"data\"], cur_dataset[\"target\"]"
   ]
  },
  {
   "cell_type": "code",
   "execution_count": 5,
   "metadata": {},
   "outputs": [],
   "source": [
    "# param\n",
    "tnse_params = {\n",
    "    'n_components':2,\n",
    "    'perplexity':30.0,\n",
    "    'early_exaggeration':12.0,\n",
    "    'learning_rate':200.0,\n",
    "    'n_iter':1000,\n",
    "    'n_iter_without_progress':300,\n",
    "    'min_grad_norm':1e-7,\n",
    "    'metric':\"euclidean\", \n",
    "    'init':\"pca\", \n",
    "    'verbose':3,\n",
    "    'random_state':None, \n",
    "    'method':'barnes_hut',\n",
    "#     'method':'exact',\n",
    "    'angle':0.5,\n",
    "    }"
   ]
  },
  {
   "cell_type": "code",
   "execution_count": 6,
   "metadata": {},
   "outputs": [],
   "source": [
    "tsne_obj = TSNE(**tnse_params)"
   ]
  },
  {
   "cell_type": "markdown",
   "metadata": {},
   "source": [
    "# import fashion-mnist"
   ]
  },
  {
   "cell_type": "code",
   "execution_count": 14,
   "metadata": {},
   "outputs": [],
   "source": [
    "import sys\n",
    "sys.path.insert(0, \"../research/fashion-mnist/\")"
   ]
  },
  {
   "cell_type": "code",
   "execution_count": 20,
   "metadata": {},
   "outputs": [],
   "source": [
    "from utils import mnist_reader\n",
    "X_train, y_train = mnist_reader.load_mnist('../research/fashion-mnist/data/fashion', kind='train')\n",
    "# X_test, y_test = mnist_reader.load_mnist('data/fashion', kind='t10k')"
   ]
  },
  {
   "cell_type": "code",
   "execution_count": 26,
   "metadata": {},
   "outputs": [
    {
     "data": {
      "text/plain": [
       "(60000, 784)"
      ]
     },
     "execution_count": 26,
     "metadata": {},
     "output_type": "execute_result"
    }
   ],
   "source": [
    "X_train.shape"
   ]
  },
  {
   "cell_type": "code",
   "execution_count": 74,
   "metadata": {},
   "outputs": [
    {
     "data": {
      "text/plain": [
       "array([9, 0, 0, ..., 3, 0, 5], dtype=uint8)"
      ]
     },
     "execution_count": 74,
     "metadata": {},
     "output_type": "execute_result"
    }
   ],
   "source": [
    "y_train"
   ]
  },
  {
   "cell_type": "code",
   "execution_count": 29,
   "metadata": {},
   "outputs": [
    {
     "data": {
      "text/plain": [
       "<matplotlib.image.AxesImage at 0x7f68f9e86dd8>"
      ]
     },
     "execution_count": 29,
     "metadata": {},
     "output_type": "execute_result"
    },
    {
     "data": {
      "image/png": "[encoded data removed]",
      "text/plain": [
       "<Figure size 432x288 with 1 Axes>"
      ]
     },
     "metadata": {
      "needs_background": "light"
     },
     "output_type": "display_data"
    }
   ],
   "source": [
    "plt.imshow(X_train[0].reshape((28,28)))"
   ]
  },
  {
   "cell_type": "markdown",
   "metadata": {},
   "source": [
    "# benchmark"
   ]
  },
  {
   "cell_type": "code",
   "execution_count": 70,
   "metadata": {
    "scrolled": true
   },
   "outputs": [
    {
     "name": "stdout",
     "output_type": "stream",
     "text": [
      "[t-SNE] Computing 91 nearest neighbors...\n",
      "[t-SNE] Indexed 60000 samples in 27.830s...\n",
      "[t-SNE] Computed neighbors for 60000 samples in 4621.702s...\n",
      "[t-SNE] Computed conditional probabilities for sample 1000 / 60000\n",
      "[t-SNE] Computed conditional probabilities for sample 2000 / 60000\n",
      "[t-SNE] Computed conditional probabilities for sample 3000 / 60000\n",
      "[t-SNE] Computed conditional probabilities for sample 4000 / 60000\n",
      "[t-SNE] Computed conditional probabilities for sample 5000 / 60000\n",
      "[t-SNE] Computed conditional probabilities for sample 6000 / 60000\n",
      "[t-SNE] Computed conditional probabilities for sample 7000 / 60000\n",
      "[t-SNE] Computed conditional probabilities for sample 8000 / 60000\n",
      "[t-SNE] Computed conditional probabilities for sample 9000 / 60000\n",
      "[t-SNE] Computed conditional probabilities for sample 10000 / 60000\n",
      "[t-SNE] Computed conditional probabilities for sample 11000 / 60000\n",
      "[t-SNE] Computed conditional probabilities for sample 12000 / 60000\n",
      "[t-SNE] Computed conditional probabilities for sample 13000 / 60000\n",
      "[t-SNE] Computed conditional probabilities for sample 14000 / 60000\n",
      "[t-SNE] Computed conditional probabilities for sample 15000 / 60000\n",
      "[t-SNE] Computed conditional probabilities for sample 16000 / 60000\n",
      "[t-SNE] Computed conditional probabilities for sample 17000 / 60000\n",
      "[t-SNE] Computed conditional probabilities for sample 18000 / 60000\n",
      "[t-SNE] Computed conditional probabilities for sample 19000 / 60000\n",
      "[t-SNE] Computed conditional probabilities for sample 20000 / 60000\n",
      "[t-SNE] Computed conditional probabilities for sample 21000 / 60000\n",
      "[t-SNE] Computed conditional probabilities for sample 22000 / 60000\n",
      "[t-SNE] Computed conditional probabilities for sample 23000 / 60000\n",
      "[t-SNE] Computed conditional probabilities for sample 24000 / 60000\n",
      "[t-SNE] Computed conditional probabilities for sample 25000 / 60000\n",
      "[t-SNE] Computed conditional probabilities for sample 26000 / 60000\n",
      "[t-SNE] Computed conditional probabilities for sample 27000 / 60000\n",
      "[t-SNE] Computed conditional probabilities for sample 28000 / 60000\n",
      "[t-SNE] Computed conditional probabilities for sample 29000 / 60000\n",
      "[t-SNE] Computed conditional probabilities for sample 30000 / 60000\n",
      "[t-SNE] Computed conditional probabilities for sample 31000 / 60000\n",
      "[t-SNE] Computed conditional probabilities for sample 32000 / 60000\n",
      "[t-SNE] Computed conditional probabilities for sample 33000 / 60000\n",
      "[t-SNE] Computed conditional probabilities for sample 34000 / 60000\n",
      "[t-SNE] Computed conditional probabilities for sample 35000 / 60000\n",
      "[t-SNE] Computed conditional probabilities for sample 36000 / 60000\n",
      "[t-SNE] Computed conditional probabilities for sample 37000 / 60000\n",
      "[t-SNE] Computed conditional probabilities for sample 38000 / 60000\n",
      "[t-SNE] Computed conditional probabilities for sample 39000 / 60000\n",
      "[t-SNE] Computed conditional probabilities for sample 40000 / 60000\n",
      "[t-SNE] Computed conditional probabilities for sample 41000 / 60000\n",
      "[t-SNE] Computed conditional probabilities for sample 42000 / 60000\n",
      "[t-SNE] Computed conditional probabilities for sample 43000 / 60000\n",
      "[t-SNE] Computed conditional probabilities for sample 44000 / 60000\n",
      "[t-SNE] Computed conditional probabilities for sample 45000 / 60000\n",
      "[t-SNE] Computed conditional probabilities for sample 46000 / 60000\n",
      "[t-SNE] Computed conditional probabilities for sample 47000 / 60000\n",
      "[t-SNE] Computed conditional probabilities for sample 48000 / 60000\n",
      "[t-SNE] Computed conditional probabilities for sample 49000 / 60000\n",
      "[t-SNE] Computed conditional probabilities for sample 50000 / 60000\n",
      "[t-SNE] Computed conditional probabilities for sample 51000 / 60000\n",
      "[t-SNE] Computed conditional probabilities for sample 52000 / 60000\n",
      "[t-SNE] Computed conditional probabilities for sample 53000 / 60000\n",
      "[t-SNE] Computed conditional probabilities for sample 54000 / 60000\n",
      "[t-SNE] Computed conditional probabilities for sample 55000 / 60000\n",
      "[t-SNE] Computed conditional probabilities for sample 56000 / 60000\n",
      "[t-SNE] Computed conditional probabilities for sample 57000 / 60000\n",
      "[t-SNE] Computed conditional probabilities for sample 58000 / 60000\n",
      "[t-SNE] Computed conditional probabilities for sample 59000 / 60000\n",
      "[t-SNE] Computed conditional probabilities for sample 60000 / 60000\n",
      "[t-SNE] Mean sigma: 304.190113\n",
      "[t-SNE] Computed conditional probabilities in 3.464s\n",
      "[t-SNE] _fit 4625.196s\n",
      "[t-SNE] Iteration 50: error = 114.6424789, gradient norm = 0.0000042 (50 iterations in 77.426s)\n",
      "[t-SNE] Iteration 100: error = 108.1852036, gradient norm = 0.0042352 (50 iterations in 72.861s)\n",
      "[t-SNE] Iteration 150: error = 96.9496536, gradient norm = 0.0012219 (50 iterations in 50.947s)\n",
      "[t-SNE] Iteration 200: error = 94.4058228, gradient norm = 0.0005347 (50 iterations in 51.268s)\n",
      "[t-SNE] Iteration 250: error = 93.3386230, gradient norm = 0.0003427 (50 iterations in 51.889s)\n",
      "[t-SNE] KL divergence after 250 iterations with early exaggeration: 93.338623\n",
      "[t-SNE] Iteration 300: error = 4.8301558, gradient norm = 0.0011235 (50 iterations in 50.571s)\n",
      "[t-SNE] Iteration 350: error = 4.3234630, gradient norm = 0.0006728 (50 iterations in 48.341s)\n",
      "[t-SNE] Iteration 400: error = 3.9742622, gradient norm = 0.0004497 (50 iterations in 47.024s)\n",
      "[t-SNE] Iteration 450: error = 3.7250946, gradient norm = 0.0003287 (50 iterations in 48.776s)\n",
      "[t-SNE] Iteration 500: error = 3.5442269, gradient norm = 0.0002541 (50 iterations in 48.417s)\n",
      "[t-SNE] Iteration 550: error = 3.4052813, gradient norm = 0.0002059 (50 iterations in 48.796s)\n",
      "[t-SNE] Iteration 600: error = 3.2945201, gradient norm = 0.0001716 (50 iterations in 48.341s)\n",
      "[t-SNE] Iteration 650: error = 3.2039509, gradient norm = 0.0001459 (50 iterations in 47.830s)\n",
      "[t-SNE] Iteration 700: error = 3.1279156, gradient norm = 0.0001266 (50 iterations in 47.926s)\n",
      "[t-SNE] Iteration 750: error = 3.0630744, gradient norm = 0.0001111 (50 iterations in 47.394s)\n",
      "[t-SNE] Iteration 800: error = 3.0067749, gradient norm = 0.0000989 (50 iterations in 47.705s)\n",
      "[t-SNE] Iteration 850: error = 2.9574411, gradient norm = 0.0000890 (50 iterations in 47.214s)\n",
      "[t-SNE] Iteration 900: error = 2.9138296, gradient norm = 0.0000809 (50 iterations in 47.549s)\n",
      "[t-SNE] Iteration 950: error = 2.8746092, gradient norm = 0.0000737 (50 iterations in 47.654s)\n",
      "[t-SNE] Iteration 1000: error = 2.8394029, gradient norm = 0.0000677 (50 iterations in 47.438s)\n",
      "[t-SNE] KL divergence after 1000 iterations: 2.839403\n",
      "[t-SNE] _tsne 1025.383s\n"
     ]
    }
   ],
   "source": [
    "embed = tsne_obj.fit_transform(X_train)"
   ]
  },
  {
   "cell_type": "code",
   "execution_count": 71,
   "metadata": {},
   "outputs": [],
   "source": [
    "np.save('embed_sklearn', embed)"
   ]
  },
  {
   "cell_type": "code",
   "execution_count": 80,
   "metadata": {},
   "outputs": [
    {
     "data": {
      "image/png": "[encoded data removed]",
      "text/plain": [
       "<Figure size 432x288 with 1 Axes>"
      ]
     },
     "metadata": {
      "needs_background": "light"
     },
     "output_type": "display_data"
    }
   ],
   "source": [
    "fig, ax = plt.subplots()\n",
    "ax.scatter(embed[:,0], embed[:,1], c=y_train)\n",
    "fig.savefig('./img/embedding_sklearn.png')"
   ]
  },
  {
   "cell_type": "code",
   "execution_count": 51,
   "metadata": {
    "collapsed": true
   },
   "outputs": [
    {
     "name": "stdout",
     "output_type": "stream",
     "text": [
      "[t-SNE] Computing 91 nearest neighbors...\n",
      "[t-SNE] Indexed 60000 samples in 28.307s...\n",
      "[t-SNE] Computed neighbors for 60000 samples in 4680.390s...\n",
      "[t-SNE] Computed conditional probabilities for sample 1000 / 60000\n",
      "[t-SNE] Computed conditional probabilities for sample 2000 / 60000\n",
      "[t-SNE] Computed conditional probabilities for sample 3000 / 60000\n",
      "[t-SNE] Computed conditional probabilities for sample 4000 / 60000\n",
      "[t-SNE] Computed conditional probabilities for sample 5000 / 60000\n",
      "[t-SNE] Computed conditional probabilities for sample 6000 / 60000\n",
      "[t-SNE] Computed conditional probabilities for sample 7000 / 60000\n",
      "[t-SNE] Computed conditional probabilities for sample 8000 / 60000\n",
      "[t-SNE] Computed conditional probabilities for sample 9000 / 60000\n",
      "[t-SNE] Computed conditional probabilities for sample 10000 / 60000\n",
      "[t-SNE] Computed conditional probabilities for sample 11000 / 60000\n",
      "[t-SNE] Computed conditional probabilities for sample 12000 / 60000\n",
      "[t-SNE] Computed conditional probabilities for sample 13000 / 60000\n",
      "[t-SNE] Computed conditional probabilities for sample 14000 / 60000\n",
      "[t-SNE] Computed conditional probabilities for sample 15000 / 60000\n",
      "[t-SNE] Computed conditional probabilities for sample 16000 / 60000\n",
      "[t-SNE] Computed conditional probabilities for sample 17000 / 60000\n",
      "[t-SNE] Computed conditional probabilities for sample 18000 / 60000\n",
      "[t-SNE] Computed conditional probabilities for sample 19000 / 60000\n",
      "[t-SNE] Computed conditional probabilities for sample 20000 / 60000\n",
      "[t-SNE] Computed conditional probabilities for sample 21000 / 60000\n",
      "[t-SNE] Computed conditional probabilities for sample 22000 / 60000\n",
      "[t-SNE] Computed conditional probabilities for sample 23000 / 60000\n",
      "[t-SNE] Computed conditional probabilities for sample 24000 / 60000\n",
      "[t-SNE] Computed conditional probabilities for sample 25000 / 60000\n",
      "[t-SNE] Computed conditional probabilities for sample 26000 / 60000\n",
      "[t-SNE] Computed conditional probabilities for sample 27000 / 60000\n",
      "[t-SNE] Computed conditional probabilities for sample 28000 / 60000\n",
      "[t-SNE] Computed conditional probabilities for sample 29000 / 60000\n",
      "[t-SNE] Computed conditional probabilities for sample 30000 / 60000\n",
      "[t-SNE] Computed conditional probabilities for sample 31000 / 60000\n",
      "[t-SNE] Computed conditional probabilities for sample 32000 / 60000\n",
      "[t-SNE] Computed conditional probabilities for sample 33000 / 60000\n",
      "[t-SNE] Computed conditional probabilities for sample 34000 / 60000\n",
      "[t-SNE] Computed conditional probabilities for sample 35000 / 60000\n",
      "[t-SNE] Computed conditional probabilities for sample 36000 / 60000\n",
      "[t-SNE] Computed conditional probabilities for sample 37000 / 60000\n",
      "[t-SNE] Computed conditional probabilities for sample 38000 / 60000\n",
      "[t-SNE] Computed conditional probabilities for sample 39000 / 60000\n",
      "[t-SNE] Computed conditional probabilities for sample 40000 / 60000\n",
      "[t-SNE] Computed conditional probabilities for sample 41000 / 60000\n",
      "[t-SNE] Computed conditional probabilities for sample 42000 / 60000\n",
      "[t-SNE] Computed conditional probabilities for sample 43000 / 60000\n",
      "[t-SNE] Computed conditional probabilities for sample 44000 / 60000\n",
      "[t-SNE] Computed conditional probabilities for sample 45000 / 60000\n",
      "[t-SNE] Computed conditional probabilities for sample 46000 / 60000\n",
      "[t-SNE] Computed conditional probabilities for sample 47000 / 60000\n",
      "[t-SNE] Computed conditional probabilities for sample 48000 / 60000\n",
      "[t-SNE] Computed conditional probabilities for sample 49000 / 60000\n",
      "[t-SNE] Computed conditional probabilities for sample 50000 / 60000\n",
      "[t-SNE] Computed conditional probabilities for sample 51000 / 60000\n",
      "[t-SNE] Computed conditional probabilities for sample 52000 / 60000\n",
      "[t-SNE] Computed conditional probabilities for sample 53000 / 60000\n",
      "[t-SNE] Computed conditional probabilities for sample 54000 / 60000\n",
      "[t-SNE] Computed conditional probabilities for sample 55000 / 60000\n",
      "[t-SNE] Computed conditional probabilities for sample 56000 / 60000\n",
      "[t-SNE] Computed conditional probabilities for sample 57000 / 60000\n",
      "[t-SNE] Computed conditional probabilities for sample 58000 / 60000\n",
      "[t-SNE] Computed conditional probabilities for sample 59000 / 60000\n",
      "[t-SNE] Computed conditional probabilities for sample 60000 / 60000\n",
      "[t-SNE] Mean sigma: 304.190113\n",
      "[t-SNE] Computed conditional probabilities in 3.385s\n",
      "[t-SNE] _fit 4683.803s\n",
      "[t-SNE] Iteration 50: error = 114.6424789, gradient norm = 0.0000038 (50 iterations in 68.793s)\n",
      "[t-SNE] Iteration 100: error = 107.7613602, gradient norm = 0.0044756 (50 iterations in 65.058s)\n",
      "[t-SNE] Iteration 150: error = 96.3610840, gradient norm = 0.0008643 (50 iterations in 52.925s)\n",
      "[t-SNE] Iteration 200: error = 94.3096848, gradient norm = 0.0004251 (50 iterations in 53.504s)\n",
      "[t-SNE] Iteration 250: error = 93.4505463, gradient norm = 0.0002949 (50 iterations in 53.807s)\n",
      "[t-SNE] KL divergence after 250 iterations with early exaggeration: 93.450546\n",
      "[t-SNE] Iteration 300: error = 4.8303704, gradient norm = 0.0011274 (50 iterations in 52.988s)\n",
      "[t-SNE] Iteration 350: error = 4.3212271, gradient norm = 0.0006724 (50 iterations in 51.693s)\n",
      "[t-SNE] Iteration 400: error = 3.9731572, gradient norm = 0.0004477 (50 iterations in 49.470s)\n",
      "[t-SNE] Iteration 450: error = 3.7252188, gradient norm = 0.0003272 (50 iterations in 48.436s)\n",
      "[t-SNE] Iteration 500: error = 3.5444133, gradient norm = 0.0002548 (50 iterations in 49.480s)\n",
      "[t-SNE] Iteration 550: error = 3.4048221, gradient norm = 0.0002080 (50 iterations in 51.089s)\n",
      "[t-SNE] Iteration 600: error = 3.2940905, gradient norm = 0.0001731 (50 iterations in 48.973s)\n",
      "[t-SNE] Iteration 650: error = 3.2033520, gradient norm = 0.0001469 (50 iterations in 47.787s)\n",
      "[t-SNE] Iteration 700: error = 3.1273458, gradient norm = 0.0001270 (50 iterations in 48.431s)\n",
      "[t-SNE] Iteration 750: error = 3.0623374, gradient norm = 0.0001119 (50 iterations in 48.196s)\n",
      "[t-SNE] Iteration 800: error = 3.0059991, gradient norm = 0.0000995 (50 iterations in 47.765s)\n",
      "[t-SNE] Iteration 850: error = 2.9566243, gradient norm = 0.0000897 (50 iterations in 47.519s)\n",
      "[t-SNE] Iteration 900: error = 2.9129224, gradient norm = 0.0000811 (50 iterations in 48.087s)\n",
      "[t-SNE] Iteration 950: error = 2.8736639, gradient norm = 0.0000739 (50 iterations in 48.127s)\n",
      "[t-SNE] Iteration 1000: error = 2.8383453, gradient norm = 0.0000679 (50 iterations in 50.986s)\n",
      "[t-SNE] KL divergence after 1000 iterations: 2.838345\n",
      "[t-SNE] _tsne 1033.127s\n",
      "1h 35min 45s ± 0 ns per loop (mean ± std. dev. of 1 run, 1 loop each)\n"
     ]
    }
   ],
   "source": [
    "res = %timeit -n1 -r1 -o embed = tsne_obj.fit_transform(X_train)"
   ]
  },
  {
   "cell_type": "markdown",
   "metadata": {},
   "source": [
    "# results"
   ]
  },
  {
   "cell_type": "code",
   "execution_count": 32,
   "metadata": {},
   "outputs": [],
   "source": [
    "import pandas as pd"
   ]
  },
  {
   "cell_type": "code",
   "execution_count": 57,
   "metadata": {},
   "outputs": [],
   "source": [
    "# this is using 1 core\n",
    "# 1000 iteration of optimisation\n",
    "\n",
    "columns = ['method', 'N', 'step1', 'step2', 'tot']\n",
    "values = np.array([\n",
    "    [0, 100,   0.020, 0.473, 0.494],\n",
    "    [0, 1000,  1.331, 5.225, 6.580],\n",
    "    [0, 10000, 147.7, 105.0, 253.0],\n",
    "    [0, 60000, 4683, 1033, 5745]\n",
    "    ])"
   ]
  },
  {
   "cell_type": "code",
   "execution_count": 58,
   "metadata": {},
   "outputs": [],
   "source": [
    "res = pd.DataFrame(values, columns=columns)"
   ]
  },
  {
   "cell_type": "code",
   "execution_count": 59,
   "metadata": {},
   "outputs": [
    {
     "data": {
      "text/html": [
       "<div>\n",
       "<style scoped>\n",
       "    .dataframe tbody tr th:only-of-type {\n",
       "        vertical-align: middle;\n",
       "    }\n",
       "\n",
       "    .dataframe tbody tr th {\n",
       "        vertical-align: top;\n",
       "    }\n",
       "\n",
       "    .dataframe thead th {\n",
       "        text-align: right;\n",
       "    }\n",
       "</style>\n",
       "<table border=\"1\" class=\"dataframe\">\n",
       "  <thead>\n",
       "    <tr style=\"text-align: right;\">\n",
       "      <th></th>\n",
       "      <th>method</th>\n",
       "      <th>N</th>\n",
       "      <th>step1</th>\n",
       "      <th>step2</th>\n",
       "      <th>tot</th>\n",
       "    </tr>\n",
       "  </thead>\n",
       "  <tbody>\n",
       "    <tr>\n",
       "      <th>0</th>\n",
       "      <td>0.0</td>\n",
       "      <td>100.0</td>\n",
       "      <td>0.020</td>\n",
       "      <td>0.473</td>\n",
       "      <td>0.494</td>\n",
       "    </tr>\n",
       "    <tr>\n",
       "      <th>1</th>\n",
       "      <td>0.0</td>\n",
       "      <td>1000.0</td>\n",
       "      <td>1.331</td>\n",
       "      <td>5.225</td>\n",
       "      <td>6.580</td>\n",
       "    </tr>\n",
       "    <tr>\n",
       "      <th>2</th>\n",
       "      <td>0.0</td>\n",
       "      <td>10000.0</td>\n",
       "      <td>147.700</td>\n",
       "      <td>105.000</td>\n",
       "      <td>253.000</td>\n",
       "    </tr>\n",
       "    <tr>\n",
       "      <th>3</th>\n",
       "      <td>0.0</td>\n",
       "      <td>60000.0</td>\n",
       "      <td>4683.000</td>\n",
       "      <td>1033.000</td>\n",
       "      <td>5745.000</td>\n",
       "    </tr>\n",
       "  </tbody>\n",
       "</table>\n",
       "</div>"
      ],
      "text/plain": [
       "   method        N     step1     step2       tot\n",
       "0     0.0    100.0     0.020     0.473     0.494\n",
       "1     0.0   1000.0     1.331     5.225     6.580\n",
       "2     0.0  10000.0   147.700   105.000   253.000\n",
       "3     0.0  60000.0  4683.000  1033.000  5745.000"
      ]
     },
     "execution_count": 59,
     "metadata": {},
     "output_type": "execute_result"
    }
   ],
   "source": [
    "res"
   ]
  },
  {
   "cell_type": "code",
   "execution_count": 81,
   "metadata": {},
   "outputs": [
    {
     "data": {
      "image/png": "[encoded data removed]",
      "text/plain": [
       "<Figure size 432x288 with 1 Axes>"
      ]
     },
     "metadata": {
      "needs_background": "light"
     },
     "output_type": "display_data"
    }
   ],
   "source": [
    "fig, ax = plt.subplots()\n",
    "res.plot(x='N', y='step1', logx=True, logy=True, ax=ax)\n",
    "res.plot(x='N', y='step1', kind='scatter', ax=ax)\n",
    "\n",
    "res.plot(x='N', y='step2', ax=ax)\n",
    "res.plot(x='N', y='step2', kind='scatter', ax=ax)\n",
    "\n",
    "res.plot(x='N', y='tot', ax=ax)\n",
    "res.plot(x='N', y='tot', kind='scatter', ax=ax)\n",
    "fig.savefig('./img/performance_sklearn.png')"
   ]
  },
  {
   "cell_type": "code",
   "execution_count": null,
   "metadata": {},
   "outputs": [],
   "source": []
  },
  {
   "cell_type": "code",
   "execution_count": null,
   "metadata": {},
   "outputs": [],
   "source": [
    "import cProfile"
   ]
  },
  {
   "cell_type": "code",
   "execution_count": null,
   "metadata": {},
   "outputs": [],
   "source": [
    "cProfile.run('tsne_obj.fit_transform(x)', sort='tottime')"
   ]
  },
  {
   "cell_type": "code",
   "execution_count": null,
   "metadata": {},
   "outputs": [],
   "source": [
    "cProfile.run('tsne_obj.fit_transform(x)', 'prof_sklearn.stats')"
   ]
  },
  {
   "cell_type": "code",
   "execution_count": null,
   "metadata": {},
   "outputs": [],
   "source": [
    "import pstats"
   ]
  },
  {
   "cell_type": "code",
   "execution_count": null,
   "metadata": {},
   "outputs": [],
   "source": [
    "stats = pstats.Stats('prof_sklearn.stats')"
   ]
  },
  {
   "cell_type": "code",
   "execution_count": null,
   "metadata": {},
   "outputs": [],
   "source": [
    "stats.strip_dirs()\n",
    "stats.sort_stats('tottime')\n",
    "\n",
    "# limit output to lines with \"(fib\" in them\n",
    "stats.print_stats('_tsne')"
   ]
  },
  {
   "cell_type": "code",
   "execution_count": null,
   "metadata": {},
   "outputs": [],
   "source": []
  }
 ],
 "metadata": {
  "kernelspec": {
   "display_name": "Python 3",
   "language": "python",
   "name": "python3"
  },
  "language_info": {
   "codemirror_mode": {
    "name": "ipython",
    "version": 3
   },
   "file_extension": ".py",
   "mimetype": "text/x-python",
   "name": "python",
   "nbconvert_exporter": "python",
   "pygments_lexer": "ipython3",
   "version": "3.7.3"
  }
 },
 "nbformat": 4,
 "nbformat_minor": 2
}

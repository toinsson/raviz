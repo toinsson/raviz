{
 "cells": [
  {
   "cell_type": "markdown",
   "metadata": {},
   "source": [
    "This notebook compiles the material I have read and gathered along the project."
   ]
  },
  {
   "cell_type": "markdown",
   "metadata": {},
   "source": [
    "# Chalmers et al.\n",
    "\n",
    "The papers closest to our research stream with the 3 main papers introducing sampling, interpolation and pivot:\n",
    "\n",
    "- Chalmers, & Matthew. (1996). A linear iteration time layout algorithm for visualising high-dimensional data. In Proceedings of the 7th conference on Visualization ’96 (p. 516). Association for Computing Machinery. Retrieved from https://dl.acm.org/citation.cfm?id=244979.245035\n",
    "\n",
    "- Morrison, A., Ross, G., & Chalmers, M. (2003). Fast Multidimensional Scaling Through Sampling, Springs and Interpolation. Information Visualization, 2(1), 68–77. https://doi.org/10.1057/palgrave.ivs.9500040\n",
    "\n",
    "- Morrison, A., & Chalmers, M. (2004). A Pivot-Based Routine for Improved Parent-Finding in Hybrid MDS. Information Visualization, 3(2), 109–122. https://doi.org/10.1057/palgrave.ivs.9500069\n",
    "\n",
    "Note that an implementation of these algorithm is [available](https://github.com/Iain530/force-directed-layout-algorithms) but seems to be buggy at the moment.\n",
    "\n",
    "A paper has been published recently, which seems very close to this body of work: \n",
    "\n",
    "- Gove, R. (2019). A Random Sampling O ( n ) Force-calculation Algorithm for Graph Layouts. Eurographics Conference on Visualization (EuroVis) 2019, 38(3). https://doi.org/10.1111/cgf.13724"
   ]
  },
  {
   "cell_type": "markdown",
   "metadata": {},
   "source": [
    "# Maatens et al.\n",
    "\n",
    "Seminal paper on t-sne. The first one introduces the student t distribution, while the sencond one introduces some performance improvments with tree-based techniques.\n",
    "\n",
    "- Maaten, L. van der, & Hinton, G. (2008). Visualizing Data using t-SNE. Journal of Machine Learning Research, 9(Nov), 2579–2605. Retrieved from http://www.jmlr.org/papers/v9/vandermaaten08a.html\n",
    "\n",
    "- Maaten, L. van der. (2014). Accelerating t-SNE using Tree-Based Algorithms. Journal of Machine Learning Research, 15, 3221–3245. Retrieved from http://jmlr.org/papers/v15/vandermaaten14a.html"
   ]
  },
  {
   "cell_type": "markdown",
   "metadata": {},
   "source": [
    "# Pezzoti et al.\n",
    "\n",
    "Pezzoti has been producing a lot of very interesting work on t-sne.\n",
    "\n",
    "For example, an interactive process that \"allows for interactive modification, removal or addition of high-dimensional data, with- out disrupting the visual analysis process.\", effectively tackling one of the issue that were pointed out in the [proposal](overview.ipynb#proposal_goals).\n",
    "\n",
    "- Pezzotti, N., Lelieveldt, B. P. F., van der Maaten, L., Höllt, T., Eisemann, E., & Vilanova, A. (2015). Approximated and User Steerable tSNE for Progressive Visual Analytics. Retrieved from http://arxiv.org/abs/1512.01655\n",
    "\n",
    "- Pezzotti, N., Lelieveldt, B. P. F., Maaten, L. van der, Hollt, T., Eisemann, E., & Vilanova, A. (2017). Approximated and User Steerable tSNE for Progressive Visual Analytics. IEEE Transactions on Visualization and Computer Graphics, \n",
    "23(7), 1739–1752. https://doi.org/10.1109/TVCG.2016.2570755\n",
    "\n",
    "Also, this one introduces a hierarchical approach to drawing the embedding.\n",
    "\n",
    "- Pezzotti, N., Höllt, T., Lelieveldt, B., Eisemann, E., & Vilanova, A. (2016). Hierarchical Stochastic Neighbor Embedding. Computer Graphics Forum, 35(3), 21–30. https://doi.org/10.1111/cgf.12878\n",
    "\n",
    "Finally, this one is quite compelling as it rephrase the computation of t-sne to fit the language supported by GPUs. In other word, textures are employed instead of matrices/vectors common to C/C++/Python/Javascript. This allows to limit the computation to the size of the output, which purpose is anyway to be printed as an image. The performance claim is that of $\\mathcal{O}(N)$. A demo is [available](https://nicola17.github.io/tfjs-tsne-demo/).\n",
    "\n",
    "- Pezzotti, N., Mordvintsev, A., Hollt, T., Lelieveldt, B. P. F., Eisemann, E., & Vilanova, A. (2018). Linear tSNE optimization for the Web. Retrieved from http://arxiv.org/abs/1805.10817"
   ]
  },
  {
   "cell_type": "markdown",
   "metadata": {},
   "source": [
    "# Approximate NN\n",
    "\n",
    "These two papers are the basis for the implementation of [pynndescent](https://github.com/lmcinnes/pynndescent), which is the nearest neighbhour Python package written by the author of UMAP. It is also used by openTSNE.\n",
    "\n",
    "- Dong, W., Moses, C., & Li, K. (2011). Efficient k-nearest neighbor graph construction for generic similarity measures, 577. https://doi.org/10.1145/1963405.1963487\n",
    "\n",
    "This quote from the paper explaine the main idea: \"Our method is based on the following simple principle: a neighbor of a neighbor is also likely to be a neighbor. In other words, if we have an approximation of the K-NN for each point, then we can improve that approximation by exploring each point’s neighbors’ neighbors as defined by the current approximation.\"\n",
    "\n",
    "- Malkov, Y. A., & Yashunin, D. A. (2016). Efficient and robust approximate nearest neighbor search using Hierarchical Navigable Small World graphs. Retrieved from http://arxiv.org/abs/1603.09320\n",
    "\n",
    "The field of approximate nearest neighbhour finding has become quite mature over the year, and constitutes a very solid reference to compared against in case random sampling should be use to speed up t-sne or force computations. Interestingly, the idea of random sampling and neighbhour similarity is commonly used in these techniques. See section in [overview](overview.ipynb#5.1-Attractive-forces)."
   ]
  },
  {
   "cell_type": "markdown",
   "metadata": {},
   "source": [
    "# Linderman et al.\n",
    "\n",
    "Linderman has proposed some performance improvments to t-sne, which have been implemeted in openTSNE.\n",
    "\n",
    "- Linderman, G. C., Rachh, M., Hoskins, J. G., Steinerberger, S., & Kluger, Y. (2017). Efficient Algorithms for t-distributed Stochastic Neighborhood Embedding. https://doi.org/10.1038/s41592-018-0308-4\n",
    "\n",
    "- Lang, D., Klaas, M., & Freitas, N. de. (2005). Empirical testing of fast kernel density estimation algorithms. UBC Technical Report, 6. Retrieved from ftp://ftp.cs.ubc.ca/.snapshot/nightly.1/local/techreports/2005/TR-2005-03.pdf\n",
    "\n",
    "Linderman is also interested in undertanding why does t-sne works so well, and hints toward spectral methods in this last paper:\n",
    "- Linderman, G. C., & Steinerberger, S. (2019). Clustering with t-SNE, Provably. SIAM Journal on Mathematics of Data Science, 1(2), 313–332. https://doi.org/10.1137/18M1216134\n",
    "\n",
    "\n",
    "\n"
   ]
  },
  {
   "cell_type": "markdown",
   "metadata": {},
   "source": [
    "# Force\n",
    "\n",
    "This collection quickly glance over some paper in the MDS field. \n",
    "\n",
    "The first paper is a seminal work, with also relates to works by Eades and Kamada and Kawai, who appear to be important figures in this field.\n",
    "\n",
    "- Fruchterman, T. M. J., & Reingold, E. M. (1991). Graph drawing by force-directed placement. Software: Practice and Experience, 21(11), 1129–1164. https://doi.org/10.1002/spe.4380211102\n",
    "\n",
    "Stress majorization seems to be a popular methods in MDS. These two paper are potentially good example of work that is produced in this community.\n",
    "\n",
    "- Gansner, E. R., Koren, Y., & North, S. (2005). Graph Drawing by Stress Majorization (pp. 239–250). Springer, Berlin, Heidelberg. https://doi.org/10.1007/978-3-540-31843-9_25\n",
    "\n",
    "- Dwyer, T., Koren, Y., & Marriott, K. (2009). Constrained graph layout by stress majorization and gradient projection. Discrete Mathematics, 309(7), 1895–1908. https://doi.org/10.1016/J.DISC.2007.12.103\n",
    "\n",
    "This paper is intesresting as it proposes to optimise the layout by only looking a one edge at a time, instead of looking at all vertices and their interactions with all other vertices. This is potentially a good approximation. \n",
    "\"This is exactly the idea behind our method: we replace the force-directed component by instead placing a constraint on every possible pair of vertices, satisfying them one by one as above.\"\n",
    "\n",
    "Zheng, J. X. S., Pawar, S., & Goodman, D. F. M. (2018). Graph Drawing by Stochastic Gradient Descent. IEEE Transactions on Visualization and Computer Graphics, 1–1. https://doi.org/10.1109/TVCG.2018.2859997\n",
    "\n",
    "This paper expains what is forceatlas2 doing. It presents an approach with force design instead of cost design:\n",
    "\n",
    "- Jacomy, M., Venturini, T., Heymann, S., & Bastian, M. (2014). ForceAtlas2, a Continuous Graph Layout Algorithm for Handy Network Visualization Designed for the Gephi Software. PLoS ONE, 9(6), e98679. https://doi.org/10.1371/journal.pone.0098679\n",
    "\n"
   ]
  },
  {
   "cell_type": "markdown",
   "metadata": {},
   "source": [
    "# Using t-sne\n",
    "\n",
    "There are a couple of papers that are interested in how to best use t-sne. This is usually coming from a more biology based field, where t-sne is employed to analyse and draw conclusion of transcriptomics datasets.\n",
    "\n",
    "For instance, the first paper aims at finding the best parameters for the optimisation of t-sne, based on the observations that the kl divergence does plateau with the default parameters. There is an in-depth analysis of the influence of the early exaggeration parameters.\n",
    "\n",
    "- Belkina, A. C., Ciccolella, C. O., Anno, R., Halpert, R., Spidlen, J., & Snyder-Cappione, J. E. (2018). Automated Optimal Parameters for T-Distributed Stochastic Neighbor Embedding Improve Visualization and Allow Analysis of Large Datasets. BioRxiv, 451690. https://doi.org/10.1101/451690\n",
    "\n",
    "- Kobak, D., & Berens, P. (2018). The art of using t-SNE for single-cell transcriptomics. BioRxiv, 453449. https://doi.org/10.1101/453449\n",
    "\n",
    "- Toghi Eshghi, S., Au-Yeung, A., Takahashi, C., Bolen, C. R., Nyachienga, M. N., Lear, S. P., … O’Gorman, W. E. (2019). Quantitative Comparison of Conventional and t-SNE-guided Gating Analyses. Frontiers in Immunology, 10, 1194. https://doi.org/10.3389/fimmu.2019.01194\n"
   ]
  },
  {
   "cell_type": "markdown",
   "metadata": {},
   "source": [
    "# Misceallenous\n",
    "\n",
    "Zrihem, N. Ben, Zahavy, T., & Mannor, S. (2016). Visualizing Dynamics: from t-SNE to SEMI-MDPs. Retrieved from http://arxiv.org/abs/1606.07112\n",
    "\n",
    "Therón, R., Losada, A. G., Benito, A., & Santamaría, R. (2018). Toward supporting decision-making under uncertainty in digital humanities with progressive visualization. In Proceedings of the Sixth International Conference on Technological Ecosystems for Enhancing Multiculturality  - TEEM’18 (pp. 826–832). New York, New York, USA: ACM Press. https://doi.org/10.1145/3284179.3284323\n",
    "\n",
    "Moritz, D., Fisher, D., Ding, B., & Wang, C. (2017). Trust, but Verify: Optimistic Visualizations of Approximate Queries for Exploring Big Data. In Proceedings of the 2017 CHI Conference on Human Factors in Computing Systems  - CHI ’17 (pp. 2904–2915). New York, New York, USA: ACM Press. https://doi.org/10.1145/3025453.3025456"
   ]
  }
 ],
 "metadata": {
  "kernelspec": {
   "display_name": "Python 3",
   "language": "python",
   "name": "python3"
  },
  "language_info": {
   "codemirror_mode": {
    "name": "ipython",
    "version": 3
   },
   "file_extension": ".py",
   "mimetype": "text/x-python",
   "name": "python",
   "nbconvert_exporter": "python",
   "pygments_lexer": "ipython3",
   "version": "3.7.3"
  }
 },
 "nbformat": 4,
 "nbformat_minor": 2
}

{
 "cells": [
  {
   "cell_type": "markdown",
   "metadata": {},
   "source": [
    "# Report\n",
    "\n",
    "This collection of notebooks constitutes a short report of the activities that I conducted during the 2-months position. \n",
    "\n",
    "The [first notebook](literature.ipynb) presents some of the inner details of t-SNE: how it addresses the crowding problem and how the cost gradient looks like for a pair of points as a function of perplexity and early exaggeration. Force-based algorithms are then presented, as well as the gradient for different types of cost. A short discussion about the similarities and differences follows before looking at the different optimisations that have been proposed and implemented for t-SNE. Finally, reflecting on some findings based on the literature, a short list of research opportunities is proposed.\n",
    "\n",
    "The [second notebook](experiments.ipynb) presents some of the experiment I ran and their results.\n",
    "\n",
    "\n",
    "## what is needed to run the notebooks?\n",
    "\n",
    "You will need a simple python installation. I would recommend [Miniconda](https://docs.conda.io/en/latest/miniconda.html). All the code that I ran is publicly available online and can be installed through the command line."
   ]
  },
  {
   "cell_type": "markdown",
   "metadata": {},
   "source": [
    "## testing all the packages are available\n",
    "\n",
    "If you want to test whether your environment can run all the code, please execute the following cells. We will try to import the packages needed."
   ]
  },
  {
   "cell_type": "code",
   "execution_count": null,
   "metadata": {},
   "outputs": [],
   "source": [
    "import numpy"
   ]
  },
  {
   "cell_type": "code",
   "execution_count": null,
   "metadata": {},
   "outputs": [],
   "source": [
    "import matplotlib"
   ]
  },
  {
   "cell_type": "code",
   "execution_count": null,
   "metadata": {},
   "outputs": [],
   "source": [
    "import openTSNE"
   ]
  },
  {
   "cell_type": "code",
   "execution_count": null,
   "metadata": {},
   "outputs": [],
   "source": [
    "import sklearn"
   ]
  },
  {
   "cell_type": "code",
   "execution_count": null,
   "metadata": {},
   "outputs": [],
   "source": [
    "import pynndescent"
   ]
  },
  {
   "cell_type": "code",
   "execution_count": null,
   "metadata": {},
   "outputs": [],
   "source": [
    "import numba"
   ]
  },
  {
   "cell_type": "code",
   "execution_count": null,
   "metadata": {},
   "outputs": [],
   "source": [
    "import pyamg"
   ]
  },
  {
   "cell_type": "markdown",
   "metadata": {},
   "source": [
    "# download MNIST-Fasion\n",
    "\n",
    "https://github.com/zalandoresearch/fashion-mnist.git"
   ]
  },
  {
   "cell_type": "code",
   "execution_count": null,
   "metadata": {},
   "outputs": [],
   "source": []
  }
 ],
 "metadata": {
  "kernelspec": {
   "display_name": "Python 3",
   "language": "python",
   "name": "python3"
  },
  "language_info": {
   "codemirror_mode": {
    "name": "ipython",
    "version": 3
   },
   "file_extension": ".py",
   "mimetype": "text/x-python",
   "name": "python",
   "nbconvert_exporter": "python",
   "pygments_lexer": "ipython3",
   "version": "3.7.3"
  }
 },
 "nbformat": 4,
 "nbformat_minor": 2
}

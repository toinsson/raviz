{
 "cells": [
  {
   "cell_type": "markdown",
   "metadata": {},
   "source": [
    "# Report\n",
    "\n",
    "This collection of notebooks constitutes a short report of the activities that I conducted during the 2-months position. \n",
    "\n",
    "The [overview](overview.ipynb) presents some of the inner details of t-SNE: how it addresses the crowding problem and how the cost gradient looks like for a pair of points as a function of perplexity and early exaggeration. Force-based algorithms are then presented, as well as the gradient for different types of cost. A short discussion about the similarities and differences follows before looking at the different optimisations that have been proposed and implemented for t-SNE. Finally, reflecting on some findings based on the literature, a short list of research opportunities is proposed.\n",
    "\n",
    "The [experiment #0 notebook](experiment_0.ipynb) runs t-sne on common datasets (MNIST in particular) and implements the knn metrics, which provides one quantitative measure of the quality of an embedding. These results are then compared with 2 available Python-based force layout algorithms.\n",
    "\n",
    "The [experiment #1 notebook](experiment_1.ipynb) proposes another implementation of force based layout, and confirms the results from the [experiment #0 notebook](experiment_0.ipynb) in that force based layout seems to have trouble dealing with massive and highly connected datasets such as MNIST 70K.\n",
    "\n",
    "The [misceallenous notebook](misceallenous.ipynb) contains some independent or exploratory results that are not connected to the big picture.\n",
    "\n",
    "The [literature notebook](literature.ipynb) compiles the material I have been reading and saving for this project. It gathers a short description of the work cited with references.\n",
    "\n",
    "The [conclusion](conclusion.ipynb) contains a short wrapup on the project with regards to what has been found in relation to the initial goals.\n",
    "\n",
    "\n",
    "## what is needed to run the notebooks?\n",
    "\n",
    "You will need a simple python installation. I would recommend [Miniconda](https://docs.conda.io/en/latest/miniconda.html). All the code that I ran is publicly available online and can be installed through the command line."
   ]
  },
  {
   "cell_type": "markdown",
   "metadata": {},
   "source": [
    "## testing all the packages are available\n",
    "\n",
    "You can install the packages that will be needed in the following notebooks with:\n",
    "\n",
    "```conda install --file requirements/conda.txt```\n",
    "\n",
    "followed by:\n",
    "\n",
    "```pip install -r requirements/pip.txt```\n",
    "\n",
    "Then, we can try to import the packages in the current notebook. "
   ]
  },
  {
   "cell_type": "code",
   "execution_count": 2,
   "metadata": {},
   "outputs": [],
   "source": [
    "import numpy\n",
    "import matplotlib\n",
    "import openTSNE\n",
    "import sklearn\n",
    "import pynndescent\n",
    "import numba\n",
    "import pyamg\n",
    "import tqdm\n",
    "import networkx\n",
    "import fa2\n",
    "import forcelayout"
   ]
  },
  {
   "cell_type": "markdown",
   "metadata": {},
   "source": [
    "If the cell above execute without errors, then all packages are installed."
   ]
  },
  {
   "cell_type": "markdown",
   "metadata": {},
   "source": [
    "# Datasets\n",
    "## MNIST-Fasion\n",
    "\n",
    "[Mnist fashion](https://github.com/zalandoresearch/fashion-mnist.git) is included as a submodule in this repository. You should check that you have downloaded the file under datasets/fashion-mnist. If it is not the case, please execute the following:\n",
    "\n",
    "```\n",
    "git submodule init \n",
    "git submodule update\n",
    "```"
   ]
  }
 ],
 "metadata": {
  "kernelspec": {
   "display_name": "Python 3",
   "language": "python",
   "name": "python3"
  },
  "language_info": {
   "codemirror_mode": {
    "name": "ipython",
    "version": 3
   },
   "file_extension": ".py",
   "mimetype": "text/x-python",
   "name": "python",
   "nbconvert_exporter": "python",
   "pygments_lexer": "ipython3",
   "version": "3.7.3"
  }
 },
 "nbformat": 4,
 "nbformat_minor": 2
}
